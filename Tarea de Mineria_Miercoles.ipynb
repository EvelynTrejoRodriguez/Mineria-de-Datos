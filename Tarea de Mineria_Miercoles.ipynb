{
 "cells": [
  {
   "cell_type": "markdown",
   "metadata": {},
   "source": [
    "### Ejercicio 1:\n",
    "Realiza una variable con tu matricula y realiza una secuencia de imprimir con tu nombre y tu matricula concatenados."
   ]
  },
  {
   "cell_type": "code",
   "execution_count": 55,
   "metadata": {},
   "outputs": [
    {
     "name": "stdout",
     "output_type": "stream",
     "text": [
      "Mi nombre es: Evelyn Lizbeth Trejo Rodriguez y me corresponde la matrícula: 1811917\n"
     ]
    }
   ],
   "source": [
    "mat=1811917\n",
    "nom=\"Evelyn Lizbeth Trejo Rodríguez\"\n",
    "print(\"Mi nombre es: \"+ nom + \" y me corresponde la matrícula: \"+str(mat))"
   ]
  },
  {
   "cell_type": "markdown",
   "metadata": {},
   "source": [
    "#### ---------------------------------------------------------------------------------------------------------------------------------------------------------------------------------------------------------------"
   ]
  },
  {
   "cell_type": "markdown",
   "metadata": {},
   "source": [
    "### Ejercicio 2:\n",
    "Pidiendo el input del usuario pide dos números y crea una pequeña calculadora con los operadores básicos de suma, resta, multiplicación, división, y exponente."
   ]
  },
  {
   "cell_type": "code",
   "execution_count": 14,
   "metadata": {},
   "outputs": [
    {
     "name": "stdout",
     "output_type": "stream",
     "text": [
      "Por favor, dame el primer número entero: (X) \n",
      "9\n",
      "Por favor, dame el segundo número entero:(Y)\n",
      "2\n",
      "------------ MENÚ CALCULADORA -------------\n",
      "\n",
      "1.- SUMA X + Y \n",
      "\n",
      "2.- RESTA X - Y \n",
      "\n",
      "3.- RESTA Y - X \n",
      "\n",
      "4.- MULTIPLICACIÓN X*Y \n",
      "\n",
      "5.- DIVISIÓN X/Y\n",
      "\n",
      "6.- DIVISIÓN Y/X\n",
      "\n",
      "7.- EXPONENCIAL X**Y \n",
      "\n",
      "8.- EXPONENCIAL Y**X \n",
      "\n",
      "9.- SALIR\n",
      "\n",
      "Por favor, ingresa la opción deseada:\n",
      "5\n",
      "El resultado 9.0 / 2.0 = 4.5\n",
      "Por favor, dame el primer número entero: (X) \n",
      "4\n",
      "Por favor, dame el segundo número entero:(Y)\n",
      "5\n",
      "------------ MENÚ CALCULADORA -------------\n",
      "\n",
      "1.- SUMA X + Y \n",
      "\n",
      "2.- RESTA X - Y \n",
      "\n",
      "3.- RESTA Y - X \n",
      "\n",
      "4.- MULTIPLICACIÓN X*Y \n",
      "\n",
      "5.- DIVISIÓN X/Y\n",
      "\n",
      "6.- DIVISIÓN Y/X\n",
      "\n",
      "7.- EXPONENCIAL X**Y \n",
      "\n",
      "8.- EXPONENCIAL Y**X \n",
      "\n",
      "9.- SALIR\n",
      "\n",
      "Por favor, ingresa la opción deseada:\n",
      "1\n",
      "El resultado 4.0 + 5.0 = 9.0\n",
      "Por favor, dame el primer número entero: (X) \n",
      "8\n",
      "Por favor, dame el segundo número entero:(Y)\n",
      "4\n",
      "------------ MENÚ CALCULADORA -------------\n",
      "\n",
      "1.- SUMA X + Y \n",
      "\n",
      "2.- RESTA X - Y \n",
      "\n",
      "3.- RESTA Y - X \n",
      "\n",
      "4.- MULTIPLICACIÓN X*Y \n",
      "\n",
      "5.- DIVISIÓN X/Y\n",
      "\n",
      "6.- DIVISIÓN Y/X\n",
      "\n",
      "7.- EXPONENCIAL X**Y \n",
      "\n",
      "8.- EXPONENCIAL Y**X \n",
      "\n",
      "9.- SALIR\n",
      "\n",
      "Por favor, ingresa la opción deseada:\n",
      "9\n",
      "Gracias, adiós\n"
     ]
    }
   ],
   "source": [
    "num1=0\n",
    "num2=0\n",
    "opc=0\n",
    "ans=0\n",
    "while(opc!=9):\n",
    "    num1=float(input(\"Por favor, dame el primer número entero: (X) \\n\"))\n",
    "    num2=float(input(\"Por favor, dame el segundo número entero:(Y)\\n\"))\n",
    "    print(\"------------ MENÚ CALCULADORA -------------\\n\")\n",
    "    print(\"1.- SUMA X + Y \\n\")\n",
    "    print(\"2.- RESTA X - Y \\n\")\n",
    "    print(\"3.- RESTA Y - X \\n\")\n",
    "    print(\"4.- MULTIPLICACIÓN X*Y \\n\")\n",
    "    print(\"5.- DIVISIÓN X/Y\\n\")\n",
    "    print(\"6.- DIVISIÓN Y/X\\n\")\n",
    "    print(\"7.- EXPONENCIAL X**Y \\n\")\n",
    "    print(\"8.- EXPONENCIAL Y**X \\n\")\n",
    "    print(\"9.- SALIR\\n\")\n",
    "    opc=int(input(\"Por favor, ingresa la opción deseada:\\n\"))\n",
    "    \n",
    "    \n",
    "    if opc==1:\n",
    "        ans=num1+num2\n",
    "        print(\"El resultado\",num1,\"+\",num2,\"=\",ans)\n",
    "    elif opc==2:\n",
    "        ans=num1-num2\n",
    "        print(\"El resultado\",num1,\"-\",num2,\"=\",ans)\n",
    "    elif opc==3:\n",
    "        ans=num2-num1\n",
    "        print(\"El resultado\",num2,\"-\",num1,\"=\",ans)\n",
    "    elif opc==4:\n",
    "        ans=num1*num2\n",
    "        print(\"El resultado\",num1,\"*\",num2,\"=\",ans)\n",
    "    elif opc==5:\n",
    "        ans=num1/num2\n",
    "        print(\"El resultado\",num1,\"/\",num2,\"=\",ans)\n",
    "    elif opc==6:\n",
    "        ans=num2/num1\n",
    "        print(\"El resultado\",num2,\"/\",num1,\"=\",ans)\n",
    "    elif opc==7:\n",
    "        ans=num1**num2\n",
    "        print(\"El resultado\",num1,\"**\",num2,\"=\",ans)\n",
    "    elif opc==8:\n",
    "        ans=num2**num1\n",
    "        print(\"El resultado\",num2,\"**\",num1,\"=\",ans)\n",
    "            \n",
    "            \n",
    "\n",
    "            \n",
    "\n",
    "print(\"Gracias, adiós\")\n",
    "                       \n",
    "                       "
   ]
  },
  {
   "cell_type": "markdown",
   "metadata": {},
   "source": [
    "#### ---------------------------------------------------------------------------------------------------------------------------------------------------------------------------------------------------------------"
   ]
  },
  {
   "cell_type": "markdown",
   "metadata": {},
   "source": [
    "### Ejercicio 3:\n",
    "Con loop while o for, realiza una lista de 10 numeros multiplos de 3, y después realiza una función de loop que sume todos los números dentro del arreglo."
   ]
  },
  {
   "cell_type": "code",
   "execution_count": 12,
   "metadata": {},
   "outputs": [
    {
     "name": "stdout",
     "output_type": "stream",
     "text": [
      "Lista:  [12, 6, 3, 9, 24, 21, 27, 30, 30, 24]\n",
      "La suma de todos los número dentro del arreglo es:  186\n"
     ]
    }
   ],
   "source": [
    "import random as r\n",
    "listaAleatoria = []\n",
    "for i in range(10):\n",
    "    listaAleatoria.append(3 * r.randint(1, 10))\n",
    "\n",
    "suma = 0\n",
    "for i in listaAleatoria:\n",
    "        suma = suma + i\n",
    "print(\"Lista: \", listaAleatoria)\n",
    "print(\"La suma de todos los número dentro del arreglo es: \", suma)\n",
    "   \n"
   ]
  },
  {
   "cell_type": "markdown",
   "metadata": {},
   "source": [
    "#### ---------------------------------------------------------------------------------------------------------------------------------------------------------------------------------------------------------------"
   ]
  },
  {
   "cell_type": "markdown",
   "metadata": {},
   "source": [
    "### Ejercicio 4\n",
    "1. Con una función de if else, revisar si un número es par o es impar.\n",
    "2. Con una función de if else, revisar si un número es primo o no."
   ]
  },
  {
   "cell_type": "markdown",
   "metadata": {},
   "source": [
    "#### 1. Con una función de if else, revisar si un número es par o es impar."
   ]
  },
  {
   "cell_type": "code",
   "execution_count": 7,
   "metadata": {},
   "outputs": [
    {
     "name": "stdout",
     "output_type": "stream",
     "text": [
      "Ingresa un numero:7\n",
      "El número 7 es impar\n"
     ]
    }
   ],
   "source": [
    "#EJERCICIO 4\n",
    "lect=int(input(\"Ingresa un numero:\"))\n",
    "def parOimpar(num):\n",
    "    if num % 2 == 0:\n",
    "        print(\"El número\", num ,\"es par \")\n",
    "    else:\n",
    "        print(\"El número\", num ,\"es impar\")\n",
    "        \n",
    "\n",
    "parOimpar(lect)\n"
   ]
  },
  {
   "cell_type": "markdown",
   "metadata": {},
   "source": [
    "#### 2. Con una función de if else, revisar si un número es primo o no."
   ]
  },
  {
   "cell_type": "code",
   "execution_count": 8,
   "metadata": {},
   "outputs": [
    {
     "name": "stdout",
     "output_type": "stream",
     "text": [
      "Ingresa un numero:8\n",
      "El número 8 NO es primo.\n"
     ]
    }
   ],
   "source": [
    "#EJERCICIO 4\n",
    "lec=int(input(\"Ingresa un numero:\"))\n",
    "def primoOno(numero):\n",
    "    bandera = False\n",
    "    if numero == 1:\n",
    "        print(\"El número\", numero ,\"NO es primo.\")\n",
    "    else:\n",
    "        for i in range(2, numero):\n",
    "            if numero % i == 0:\n",
    "                print(\"El número\", numero ,\"NO es primo.\")\n",
    "                bandera=True\n",
    "                break\n",
    "    if(bandera==False and numero!=1):\n",
    "        print(\"El número\", numero ,\"es primo.\")\n",
    "        \n",
    "        \n",
    "\n",
    "primoOno(lec)"
   ]
  },
  {
   "cell_type": "markdown",
   "metadata": {},
   "source": [
    "#### ---------------------------------------------------------------------------------------------------------------------------------------------------------------------------------------------------------------"
   ]
  },
  {
   "cell_type": "markdown",
   "metadata": {},
   "source": [
    "### Ejercicio 5\n",
    "Utilizando diferentes clases en python, crea una calculadora con los operadores básicos de suma, resta, multiplicación, división, y exponente."
   ]
  },
  {
   "cell_type": "code",
   "execution_count": 15,
   "metadata": {},
   "outputs": [
    {
     "name": "stdout",
     "output_type": "stream",
     "text": [
      "Por favor, dame el primer número entero: (X) \n",
      "65\n",
      "Por favor, dame el segundo número entero:(Y) \n",
      "42\n",
      "------------ MENÚ CALCULADORA -------------\n",
      "\n",
      "1.- SUMA\n",
      "\n",
      "2.- RESTA X - Y\n",
      "\n",
      "3.- RESTA Y - X\n",
      "\n",
      "4.- MULTIPLICACIÓN\n",
      "\n",
      "5.- DIVISIÓN X/Y\n",
      "\n",
      "6.- DIVISIÓN Y/X\n",
      "\n",
      "7.- EXPOCIONAL X**Y \n",
      "\n",
      "8.- EXPONENCIAL Y**X \n",
      "\n",
      "9.- SALIR\n",
      "\n",
      "Por favor, ingresa la opción deseada:\n",
      "1\n",
      "El resultado 65.0 + 42.0 = 107.0\n",
      "Por favor, dame el primer número entero: (X) \n",
      "8\n",
      "Por favor, dame el segundo número entero:(Y) \n",
      "4\n",
      "------------ MENÚ CALCULADORA -------------\n",
      "\n",
      "1.- SUMA\n",
      "\n",
      "2.- RESTA X - Y\n",
      "\n",
      "3.- RESTA Y - X\n",
      "\n",
      "4.- MULTIPLICACIÓN\n",
      "\n",
      "5.- DIVISIÓN X/Y\n",
      "\n",
      "6.- DIVISIÓN Y/X\n",
      "\n",
      "7.- EXPOCIONAL X**Y \n",
      "\n",
      "8.- EXPONENCIAL Y**X \n",
      "\n",
      "9.- SALIR\n",
      "\n",
      "Por favor, ingresa la opción deseada:\n",
      "8\n",
      "El resultado 4.0 ** 8.0 = 65536.0\n",
      "Por favor, dame el primer número entero: (X) \n",
      "7\n",
      "Por favor, dame el segundo número entero:(Y) \n",
      "4\n",
      "------------ MENÚ CALCULADORA -------------\n",
      "\n",
      "1.- SUMA\n",
      "\n",
      "2.- RESTA X - Y\n",
      "\n",
      "3.- RESTA Y - X\n",
      "\n",
      "4.- MULTIPLICACIÓN\n",
      "\n",
      "5.- DIVISIÓN X/Y\n",
      "\n",
      "6.- DIVISIÓN Y/X\n",
      "\n",
      "7.- EXPOCIONAL X**Y \n",
      "\n",
      "8.- EXPONENCIAL Y**X \n",
      "\n",
      "9.- SALIR\n",
      "\n",
      "Por favor, ingresa la opción deseada:\n",
      "9\n",
      "Gracias, adiós\n"
     ]
    }
   ],
   "source": [
    "\n",
    "def Suma(num1,num2):\n",
    "    ans = num1+num2\n",
    "    return ans\n",
    "\n",
    "def Resta(num1,num2):\n",
    "    ans = num1-num2\n",
    "    return ans\n",
    "\n",
    "def Multiplicacion(num1,num2):\n",
    "    ans = num1*num2\n",
    "    return ans\n",
    "\n",
    "def Division(num1,num2):\n",
    "    ans = num1/num2\n",
    "    return ans\n",
    "\n",
    "def Exponencial(num1,num2):\n",
    "    ans = num1**num2\n",
    "    return ans\n",
    "\n",
    "ans=0\n",
    "opc=0\n",
    "while(opc!=9):\n",
    "    num1=float(input(\"Por favor, dame el primer número entero: (X) \\n\"))\n",
    "    num2=float(input(\"Por favor, dame el segundo número entero:(Y) \\n\"))\n",
    "    print(\"------------ MENÚ CALCULADORA -------------\\n\")\n",
    "    print(\"1.- SUMA\\n\")\n",
    "    print(\"2.- RESTA X - Y\\n\")\n",
    "    print(\"3.- RESTA Y - X\\n\")\n",
    "    print(\"4.- MULTIPLICACIÓN\\n\")\n",
    "    print(\"5.- DIVISIÓN X/Y\\n\")\n",
    "    print(\"6.- DIVISIÓN Y/X\\n\")\n",
    "    print(\"7.- EXPOCIONAL X**Y \\n\")\n",
    "    print(\"8.- EXPONENCIAL Y**X \\n\")\n",
    "    print(\"9.- SALIR\\n\")\n",
    "    opc=int(input(\"Por favor, ingresa la opción deseada:\\n\"))\n",
    "    \n",
    "    \n",
    "    if opc==1:\n",
    "        print(\"El resultado\",num1,\"+\",num2,\"=\",Suma(num1,num2))\n",
    "    elif opc==2:\n",
    "        print(\"El resultado\",num1,\"-\",num2,\"=\",Resta(num1,num2))\n",
    "    elif opc==3:\n",
    "        print(\"El resultado\",num2,\"-\",num1,\"=\",Resta(num2,num1))\n",
    "    elif opc==4:\n",
    "        print(\"El resultado\",num1,\"*\",num2,\"=\",Multiplicacion(num1,num2))\n",
    "    elif opc==5:\n",
    "        print(\"El resultado\",num1,\"/\",num2,\"=\",Division(num1,num2))\n",
    "    elif opc==6:\n",
    "        print(\"El resultado\",num2,\"/\",num1,\"=\",Division(num2,num1))\n",
    "    elif opc==7:\n",
    "        print(\"El resultado\",num1,\"**\",num2,\"=\",Exponencial(num1,num2))\n",
    "    elif opc==8:\n",
    "        print(\"El resultado\",num2,\"**\",num1,\"=\",Exponencial(num2,num1))\n",
    "            \n",
    "            \n",
    "print(\"Gracias, adiós\")\n",
    "\n",
    "\n",
    "   \n",
    "    \n"
   ]
  },
  {
   "cell_type": "markdown",
   "metadata": {},
   "source": [
    "#### ---------------------------------------------------------------------------------------------------------------------------------------------------------------------------------------------------------------"
   ]
  },
  {
   "cell_type": "markdown",
   "metadata": {},
   "source": [
    "# Ejercicios con estructuras básicas de python.\n",
    "### Tuplas\n",
    "1. Crear una variable flotante, integer, boleana y compleja e imprimir el tipo de variable que es.\n",
    "\n",
    "2. Crear una tupla con valores enteros imprimir el primer y ultimo valor.\n",
    "\n",
    "3. Añadir 3 valores de string a la tupla.\n",
    "\n",
    "4. Verificar si una variable existe dentro de la tupla.\n"
   ]
  },
  {
   "cell_type": "markdown",
   "metadata": {},
   "source": [
    "### 1. Crear una variable flotante, integer, boleana y compleja e imprimir el tipo de variable que es."
   ]
  },
  {
   "cell_type": "code",
   "execution_count": 13,
   "metadata": {
    "scrolled": true
   },
   "outputs": [
    {
     "name": "stdout",
     "output_type": "stream",
     "text": [
      "Tipo de Variables\n",
      "\n",
      "12.985 <class 'float'> \n",
      "\n",
      "18574 <class 'int'> \n",
      "\n",
      "True <class 'bool'> \n",
      "\n",
      "(54+5j) <class 'complex'> \n",
      "\n"
     ]
    }
   ],
   "source": [
    "flotante=12.985\n",
    "entero=18574\n",
    "boleano=True\n",
    "compleja= 54 + 5j\n",
    "\n",
    "print(\"Tipo de Variables\\n\")\n",
    "\n",
    "print(flotante ,type(flotante),\"\\n\")\n",
    "print(entero, type(entero),\"\\n\")\n",
    "print(boleano, type(boleano),\"\\n\")\n",
    "print(compleja, type(compleja),\"\\n\")\n"
   ]
  },
  {
   "cell_type": "markdown",
   "metadata": {},
   "source": [
    "### 2. Crear una tupla con valores enteros imprimir el primer y ultimo valor."
   ]
  },
  {
   "cell_type": "code",
   "execution_count": 14,
   "metadata": {},
   "outputs": [
    {
     "name": "stdout",
     "output_type": "stream",
     "text": [
      "Primer valor:  54 \n",
      "\n",
      "Ultimo Valor:  84\n"
     ]
    }
   ],
   "source": [
    "tupla=(54,85,9,12,30,74,33,84)\n",
    "print(\"Primer valor: \", str(tupla[0]),\"\\n\")\n",
    "print(\"Último Valor: \", str(tupla[-1]))\n"
   ]
  },
  {
   "cell_type": "markdown",
   "metadata": {},
   "source": [
    "### 3. Añadir 3 valores de string a la tupla."
   ]
  },
  {
   "cell_type": "code",
   "execution_count": 15,
   "metadata": {},
   "outputs": [
    {
     "name": "stdout",
     "output_type": "stream",
     "text": [
      "(54, 85, 9, 12, 30, 74, 33, 84, 'Hola mundo', '¿Como esta?', 'Buen Dia')\n"
     ]
    }
   ],
   "source": [
    "tupla=tupla+(\"Hola mundo\",\"¿Como esta?\",\"Buen Dia\")\n",
    "print(tupla)"
   ]
  },
  {
   "cell_type": "markdown",
   "metadata": {},
   "source": [
    "### 4. Verificar si una variable existe dentro de la tupla."
   ]
  },
  {
   "cell_type": "code",
   "execution_count": 16,
   "metadata": {},
   "outputs": [
    {
     "name": "stdout",
     "output_type": "stream",
     "text": [
      "Que tipo de variable deseas buscar: \n",
      " 0 -> Entero \n",
      " 1 -> String \n",
      "1\n",
      "Inserta la cadena que deseas verificar:Hola mundo\n",
      "La variable  ´ Hola mundo ´ está en  (54, 85, 9, 12, 30, 74, 33, 84, 'Hola mundo', '¿Como esta?', 'Buen Dia')\n"
     ]
    }
   ],
   "source": [
    "lectura = int(input(\"Que tipo de variable deseas buscar: \\n 0 -> Entero \\n 1 -> String \\n\"))\n",
    "if lectura == 0:\n",
    "    var=int(input(\"Inserta el número que deseas verificar:\"))\n",
    "elif lectura == 1:\n",
    "    var=str(input(\"Inserta la cadena que deseas verificar:\"))\n",
    "    \n",
    "if var in tupla:\n",
    "    print(\"La variable \", \"´\",var,\"´\", \"está en \", tupla)\n",
    "else:\n",
    "    print(\"La variable \", var, \"NO está en \", tupla)"
   ]
  },
  {
   "cell_type": "markdown",
   "metadata": {},
   "source": [
    "#### ---------------------------------------------------------------------------------------------------------------------------------------------------------------------------------------------------------------"
   ]
  },
  {
   "cell_type": "markdown",
   "metadata": {},
   "source": [
    "# Listas\n",
    "1. Crear una lista con 40 elementos aleatorios enteros.\n",
    "\n",
    "2. Con una funcion (def) crear dos listas nuevas a partir de la lista creada por numeros aleatorios, en la cual en una esten los elementos pares, y en la otra los elementos impares.\n",
    "\n",
    "3. Crear dos variables con la longitud de ambas listas nuevas e imprimir las variables.\n",
    "\n",
    "4. Ordenar los elementos de la lista par de mayor a menor, y los de la lista impar de menor a mayor.\n",
    "\n",
    "5. Utilizar al menos cuatro de las funciones de listas en python en la lista original de 40 elementos."
   ]
  },
  {
   "cell_type": "markdown",
   "metadata": {},
   "source": [
    "### 1. Crear una lista con 40 elementos aleatorios enteros."
   ]
  },
  {
   "cell_type": "code",
   "execution_count": 44,
   "metadata": {},
   "outputs": [
    {
     "name": "stdout",
     "output_type": "stream",
     "text": [
      "[721, 469, 973, 529, 797, 601, 260, 882, 785, 538, 943, 484, 400, 702, 472, 928, 12, 243, 908, 638, 919, 446, 555, 854, 891, 957, 358, 552, 79, 217, 255, 165, 975, 438, 421, 11, 985, 106, 103, 869]\n"
     ]
    }
   ],
   "source": [
    "import random as r\n",
    "\n",
    "lista=[]\n",
    "for i in range(40):\n",
    "    lista = lista + [r.randint(1, 1000)]\n",
    "\n",
    "print(lista)\n",
    "#lista\n",
    "#len(lista)\n"
   ]
  },
  {
   "cell_type": "markdown",
   "metadata": {},
   "source": [
    "### 2. Con una funcion (def) crear dos listas nuevas a partir de la lista creada por numeros aleatorios, en la cual en una esten los elementos pares, y en la otra los elementos impares."
   ]
  },
  {
   "cell_type": "code",
   "execution_count": 45,
   "metadata": {},
   "outputs": [
    {
     "name": "stdout",
     "output_type": "stream",
     "text": [
      "La lista en donde estan los elemntos pares es:  [260, 882, 538, 484, 400, 702, 472, 928, 12, 908, 638, 446, 854, 358, 552, 438, 106]\n",
      "La lista en donde estan los elemntos impar es:  [721, 469, 973, 529, 797, 601, 785, 943, 243, 919, 555, 891, 957, 79, 217, 255, 165, 975, 421, 11, 985, 103, 869]\n"
     ]
    }
   ],
   "source": [
    "listaPar = []\n",
    "listaImpar = []\n",
    "def clasifica(listaOriginal, listaDeImpares, listaDePares):\n",
    "    for i in listaOriginal:\n",
    "        if i % 2 == 0:\n",
    "            listaDePares.append(i)\n",
    "        else:\n",
    "            listaDeImpares.append(i)\n",
    "\n",
    "clasifica(lista, listaImpar, listaPar)\n",
    "print(\"La lista en donde estan los elemntos pares es: \", listaPar)\n",
    "print(\"La lista en donde estan los elemntos impar es: \", listaImpar)\n"
   ]
  },
  {
   "cell_type": "markdown",
   "metadata": {},
   "source": [
    "### 3. Crear dos variables con la longitud de ambas listas nuevas e imprimir las variables."
   ]
  },
  {
   "cell_type": "code",
   "execution_count": 46,
   "metadata": {},
   "outputs": [
    {
     "name": "stdout",
     "output_type": "stream",
     "text": [
      "Longitud de Lista Par:  17 \n",
      "Longitud de Lista Impar:  23\n"
     ]
    }
   ],
   "source": [
    "longPar=len(listaPar)\n",
    "\n",
    "longIm=len(listaImpar)\n",
    "\n",
    "print(\"Longitud de Lista Par: \",longPar,\"\\nLongitud de Lista Impar: \", longIm)\n"
   ]
  },
  {
   "cell_type": "markdown",
   "metadata": {},
   "source": [
    "### 4. Ordenar los elementos de la lista par de mayor a menor, y los de la lista impar de menor a mayor."
   ]
  },
  {
   "cell_type": "code",
   "execution_count": 47,
   "metadata": {},
   "outputs": [
    {
     "name": "stdout",
     "output_type": "stream",
     "text": [
      "Lista Par de mayor a menor:\n",
      "\n",
      "[928, 908, 882, 854, 702, 638, 552, 538, 484, 472, 446, 438, 400, 358, 260, 106, 12]\n",
      "\n",
      "Lista Impar de menor a mayor:\n",
      "\n",
      "[11, 79, 103, 165, 217, 243, 255, 421, 469, 529, 555, 601, 721, 785, 797, 869, 891, 919, 943, 957, 973, 975, 985]\n"
     ]
    }
   ],
   "source": [
    "listaPar.sort(reverse=True)\n",
    "listaImpar.sort(reverse=False)\n",
    "print(\"Lista Par de mayor a menor:\\n\")\n",
    "print (listaPar)\n",
    "print(\"\\nLista Impar de menor a mayor:\\n\")\n",
    "print (listaImpar)\n",
    "\n"
   ]
  },
  {
   "cell_type": "markdown",
   "metadata": {},
   "source": [
    "### 5. Utilizar al menos cuatro de las funciones de listas en python en la lista original de 40 elementos."
   ]
  },
  {
   "cell_type": "code",
   "execution_count": 48,
   "metadata": {},
   "outputs": [
    {
     "name": "stdout",
     "output_type": "stream",
     "text": [
      "Lista Original: \n",
      " [721, 469, 973, 529, 797, 601, 260, 882, 785, 538, 943, 484, 400, 702, 472, 928, 12, 243, 908, 638, 919, 446, 555, 854, 891, 957, 358, 552, 79, 217, 255, 165, 975, 438, 421, 11, 985, 106, 103, 869]\n",
      "La lista sin el elemento de la posición 5 es: \n",
      " [721, 469, 973, 529, 797, 260, 882, 785, 538, 943, 484, 400, 702, 472, 928, 12, 243, 908, 638, 919, 446, 555, 854, 891, 957, 358, 552, 79, 217, 255, 165, 975, 438, 421, 11, 985, 106, 103, 869]\n"
     ]
    }
   ],
   "source": [
    "#.pop(posicion)\n",
    "print(\"Lista Original: \\n\",lista)\n",
    "lista.pop(5)\n",
    "print(\"La lista sin el elemento de la posición 5 es: \\n\", lista)\n",
    "\n"
   ]
  },
  {
   "cell_type": "code",
   "execution_count": 49,
   "metadata": {},
   "outputs": [
    {
     "name": "stdout",
     "output_type": "stream",
     "text": [
      "Lista Original: \n",
      " [721, 469, 973, 529, 797, 260, 882, 785, 538, 943, 484, 400, 702, 472, 928, 12, 243, 908, 638, 919, 446, 555, 854, 891, 957, 358, 552, 79, 217, 255, 165, 975, 438, 421, 11, 985, 106, 103, 869]\n",
      "La lista sin el primer elemento es: \n",
      " [469, 973, 529, 797, 260, 882, 785, 538, 943, 484, 400, 702, 472, 928, 12, 243, 908, 638, 919, 446, 555, 854, 891, 957, 358, 552, 79, 217, 255, 165, 975, 438, 421, 11, 985, 106, 103, 869]\n"
     ]
    }
   ],
   "source": [
    "#.remove(lo que estoy buscando)\n",
    "print(\"Lista Original: \\n\",lista)\n",
    "lista.remove(lista[0])\n",
    "print(\"La lista sin el primer elemento es: \\n\", lista)\n"
   ]
  },
  {
   "cell_type": "code",
   "execution_count": 50,
   "metadata": {},
   "outputs": [
    {
     "name": "stdout",
     "output_type": "stream",
     "text": [
      "Lista Original: \n",
      " [469, 973, 529, 797, 260, 882, 785, 538, 943, 484, 400, 702, 472, 928, 12, 243, 908, 638, 919, 446, 555, 854, 891, 957, 358, 552, 79, 217, 255, 165, 975, 438, 421, 11, 985, 106, 103, 869]\n",
      "Lista ordenada de menor a mayor: \n",
      " [11, 12, 79, 103, 106, 165, 217, 243, 255, 260, 358, 400, 421, 438, 446, 469, 472, 484, 529, 538, 552, 555, 638, 702, 785, 797, 854, 869, 882, 891, 908, 919, 928, 943, 957, 973, 975, 985]\n"
     ]
    }
   ],
   "source": [
    "#.sort(reverse=False)\n",
    "print(\"Lista Original: \\n\",lista)\n",
    "lista.sort(reverse=False)\n",
    "print(\"Lista ordenada de menor a mayor: \\n\",lista)"
   ]
  },
  {
   "cell_type": "code",
   "execution_count": 51,
   "metadata": {},
   "outputs": [
    {
     "name": "stdout",
     "output_type": "stream",
     "text": [
      "Lista Original: \n",
      " [11, 12, 79, 103, 106, 165, 217, 243, 255, 260, 358, 400, 421, 438, 446, 469, 472, 484, 529, 538, 552, 555, 638, 702, 785, 797, 854, 869, 882, 891, 908, 919, 928, 943, 957, 973, 975, 985]\n",
      "Lista Invertida: \n",
      " [985, 975, 973, 957, 943, 928, 919, 908, 891, 882, 869, 854, 797, 785, 702, 638, 555, 552, 538, 529, 484, 472, 469, 446, 438, 421, 400, 358, 260, 255, 243, 217, 165, 106, 103, 79, 12, 11]\n"
     ]
    }
   ],
   "source": [
    "#.reverse()\n",
    "print(\"Lista Original: \\n\",lista)\n",
    "lista.reverse()\n",
    "print(\"Lista Invertida: \\n\",lista)"
   ]
  },
  {
   "cell_type": "code",
   "execution_count": 52,
   "metadata": {},
   "outputs": [
    {
     "name": "stdout",
     "output_type": "stream",
     "text": [
      "Lista Original: \n",
      " [985, 975, 973, 957, 943, 928, 919, 908, 891, 882, 869, 854, 797, 785, 702, 638, 555, 552, 538, 529, 484, 472, 469, 446, 438, 421, 400, 358, 260, 255, 243, 217, 165, 106, 103, 79, 12, 11]\n",
      "La cantidad de veces que se encuentra el segundo valor de la lista es: 1\n"
     ]
    }
   ],
   "source": [
    "#.count(# de veces que se repite x) \n",
    "print(\"Lista Original: \\n\",lista)\n",
    "x= lista.count(lista[1])\n",
    "print(\"La cantidad de veces que se encuentra el segundo valor de la lista es:\",x)"
   ]
  },
  {
   "cell_type": "code",
   "execution_count": 53,
   "metadata": {},
   "outputs": [
    {
     "name": "stdout",
     "output_type": "stream",
     "text": [
      "Lista Original: \n",
      " [985, 975, 973, 957, 943, 928, 919, 908, 891, 882, 869, 854, 797, 785, 702, 638, 555, 552, 538, 529, 484, 472, 469, 446, 438, 421, 400, 358, 260, 255, 243, 217, 165, 106, 103, 79, 12, 11]\n",
      "Lista Vacia: \n",
      " []\n"
     ]
    }
   ],
   "source": [
    "#.clear(borra toda la lista)\n",
    "print(\"Lista Original: \\n\",lista)\n",
    "lista.clear()\n",
    "print(\"Lista Vacía: \\n\",lista)\n"
   ]
  },
  {
   "cell_type": "markdown",
   "metadata": {},
   "source": [
    "#### ---------------------------------------------------------------------------------------------------------------------------------------------------------------------------------------------------------------"
   ]
  },
  {
   "cell_type": "markdown",
   "metadata": {},
   "source": [
    "# Diccionarios\n",
    "1. Crear un diccionario de 6 personas que conozcas con su primer nombre y su edad.\n",
    "\n",
    "2. Crear una lista con los valores de la edad y reacomodar la lista de menor a mayor valor.\n",
    "\n",
    "3. Usando el diccionario y un loop, imprimir solo los nombres.\n",
    "\n",
    "4. Añadir dos personas nuevas a tu diccionario, incluyendo edad."
   ]
  },
  {
   "cell_type": "markdown",
   "metadata": {},
   "source": [
    "### 1. Crear un diccionario de 6 personas que conozcas con su primer nombre y su edad \n",
    "### 2. Crear una lista con los valores de la edad y reacomodar la lista de menor a mayor valor."
   ]
  },
  {
   "cell_type": "code",
   "execution_count": 7,
   "metadata": {},
   "outputs": [
    {
     "name": "stdout",
     "output_type": "stream",
     "text": [
      "Lista Original de Edades: \n",
      " [21, 20, 33, 53, 42, 22]\n",
      "Lista Ordenada de menor a mayor: \n",
      " [20, 21, 22, 33, 42, 53]\n"
     ]
    }
   ],
   "source": [
    "#PASO 1\n",
    "diccionario = {\"Aryam\": 21, \"Magdaly\": 20, \"Cesar\" : 33, \"Laura\": 53, \"Eylin\" : 42, \"Ariel\": 22}\n",
    "\n",
    "#PASO 2\n",
    "listaEdad = list(diccionario.values())\n",
    "print(\"Lista Original de Edades: \\n\",listaEdad)\n",
    "listaEdad.sort(reverse = False)\n",
    "print(\"Lista Ordenada de menor a mayor: \\n\",listaEdad)\n"
   ]
  },
  {
   "cell_type": "markdown",
   "metadata": {},
   "source": [
    "### 3. Usando el diccionario y un loop, imprimir solo los nombres "
   ]
  },
  {
   "cell_type": "code",
   "execution_count": 8,
   "metadata": {},
   "outputs": [
    {
     "name": "stdout",
     "output_type": "stream",
     "text": [
      "Aryam\n",
      "Magdaly\n",
      "Cesar\n",
      "Laura\n",
      "Eylin\n",
      "Ariel\n"
     ]
    }
   ],
   "source": [
    "for i in diccionario.keys():\n",
    "    print(i)"
   ]
  },
  {
   "cell_type": "markdown",
   "metadata": {},
   "source": [
    "### 4. Añadir dos personas nuevas a tu diccionario, incluyendo edad."
   ]
  },
  {
   "cell_type": "code",
   "execution_count": 9,
   "metadata": {},
   "outputs": [
    {
     "data": {
      "text/plain": [
       "{'Aryam': 21,\n",
       " 'Magdaly': 20,\n",
       " 'Cesar': 33,\n",
       " 'Laura': 53,\n",
       " 'Eylin': 42,\n",
       " 'Ariel': 22,\n",
       " 'Juan': 15,\n",
       " 'Alondra': 69}"
      ]
     },
     "execution_count": 9,
     "metadata": {},
     "output_type": "execute_result"
    }
   ],
   "source": [
    "diccionario[\"Juan\"] = 15\n",
    "diccionario[\"Alondra\"] = 69\n",
    "diccionario"
   ]
  },
  {
   "cell_type": "markdown",
   "metadata": {},
   "source": [
    "#### ---------------------------------------------------------------------------------------------------------------------------------------------------------------------------------------------------------------"
   ]
  },
  {
   "cell_type": "markdown",
   "metadata": {},
   "source": [
    "# Sets\n",
    "1.Crea un set con 100 numeros aleatorios enteros del 1 al 25.\n",
    "\n",
    "2.Comprueba la longitud de tu set.\n",
    "\n",
    "3.Crea una lista de 5 numeros aleatorios del 1 al 10 y comprueba si cada valor aparece en el set inicial."
   ]
  },
  {
   "cell_type": "markdown",
   "metadata": {},
   "source": [
    "### 1.Crea un set con 100 numeros aleatorios enteros del 1 al 25."
   ]
  },
  {
   "cell_type": "code",
   "execution_count": 35,
   "metadata": {},
   "outputs": [
    {
     "name": "stdout",
     "output_type": "stream",
     "text": [
      "{1, 3, 4, 5, 6, 7, 8, 9, 10, 11, 12, 13, 14, 15, 16, 17, 18, 19, 20, 21, 22, 23, 24, 25}\n"
     ]
    }
   ],
   "source": [
    "\n",
    "import random as r\n",
    "\n",
    "nlist=[]\n",
    "for i in range(100):\n",
    "    nlist = nlist + [r.randint(1, 25)]\n",
    "\n",
    "conj = set(nlist)\n",
    "print(conj)\n"
   ]
  },
  {
   "cell_type": "markdown",
   "metadata": {},
   "source": [
    "### 2.Comprueba la longitud de tu set."
   ]
  },
  {
   "cell_type": "code",
   "execution_count": 36,
   "metadata": {},
   "outputs": [
    {
     "name": "stdout",
     "output_type": "stream",
     "text": [
      "La longitud de mi set es de: 24\n"
     ]
    }
   ],
   "source": [
    "long=len(conj)\n",
    "print(\"La longitud de mi set es de:\",long)"
   ]
  },
  {
   "cell_type": "markdown",
   "metadata": {},
   "source": [
    "### 3.Crea una lista de 5 numeros aleatorios del 1 al 10 y comprueba si cada valor aparece en el set inicial."
   ]
  },
  {
   "cell_type": "code",
   "execution_count": 37,
   "metadata": {},
   "outputs": [
    {
     "name": "stdout",
     "output_type": "stream",
     "text": [
      "\n",
      "El número  2 NO se encuentra en el set inicial\n",
      "\n",
      "\n",
      "El número  9 se encuentra en el set inicial\n",
      "\n",
      "\n",
      "El número  3 se encuentra en el set inicial\n",
      "\n",
      "\n",
      "El número  5 se encuentra en el set inicial\n",
      "\n",
      "\n",
      "El número  7 se encuentra en el set inicial\n",
      "\n"
     ]
    }
   ],
   "source": [
    "import random as r\n",
    "\n",
    "listaDe5=[]\n",
    "for i in range(5):\n",
    "    listaDe5 = listaDe5 + [r.randint(1, 10)]\n",
    "\n",
    "for i in listaDe5:\n",
    "    if i in conj:\n",
    "        print(\"\\nEl número \", i, \"se encuentra en el set inicial\\n\")\n",
    "    else:\n",
    "        print(\"\\nEl número \", i, \"NO se encuentra en el set inicial\\n\")"
   ]
  },
  {
   "cell_type": "markdown",
   "metadata": {},
   "source": [
    "### Hice otro donde corregi, e hice 25 numeros aleatorios enteros del 1 al 100, debido a que de la otra forma, no podria hacer un set con 100 numeros aleatorios, si solo estan del 1 al 25, debido a que el set no toma valores duplicados.\n",
    "### 1.Crea un set con 25 numeros aleatorios enteros del 1 al 100\n"
   ]
  },
  {
   "cell_type": "code",
   "execution_count": 32,
   "metadata": {},
   "outputs": [
    {
     "name": "stdout",
     "output_type": "stream",
     "text": [
      "{2, 3, 5, 7, 11, 12, 15, 20, 23, 28, 30, 40, 44, 46, 48, 53, 58, 63, 72, 74, 81, 87, 90, 99, 100}\n"
     ]
    }
   ],
   "source": [
    "\n",
    "import random as r\n",
    "\n",
    "newlist=[]\n",
    "\n",
    "while len(newlist) < 25:\n",
    "    val = r.randint(1, 100) \n",
    "    if val not in newlist:\n",
    "        newlist = newlist + [val]\n",
    "    else:\n",
    "        pass\n",
    "\n",
    "conjunto = set(newlist)\n",
    "print(conjunto)\n",
    "\n"
   ]
  },
  {
   "cell_type": "markdown",
   "metadata": {},
   "source": [
    "### 2.Comprueba la longitud de tu set"
   ]
  },
  {
   "cell_type": "code",
   "execution_count": 33,
   "metadata": {},
   "outputs": [
    {
     "name": "stdout",
     "output_type": "stream",
     "text": [
      "La longitud de mi set es de: 25\n"
     ]
    }
   ],
   "source": [
    "\n",
    "lon=len(conjunto)\n",
    "print(\"La longitud de mi set es de:\",lon)"
   ]
  },
  {
   "cell_type": "markdown",
   "metadata": {},
   "source": [
    "### 3.Crea una lista de 5 numeros aleatorios del 1 al 10 y comprueba si cada valor aparece en el set inicial."
   ]
  },
  {
   "cell_type": "code",
   "execution_count": 34,
   "metadata": {
    "scrolled": true
   },
   "outputs": [
    {
     "name": "stdout",
     "output_type": "stream",
     "text": [
      "\n",
      "El número  9 NO se encuentra en el set inicial\n",
      "\n",
      "\n",
      "El número  8 NO se encuentra en el set inicial\n",
      "\n",
      "\n",
      "El número  9 NO se encuentra en el set inicial\n",
      "\n",
      "\n",
      "El número  2 se encuentra en el set inicial\n",
      "\n",
      "\n",
      "El número  5 se encuentra en el set inicial\n",
      "\n"
     ]
    }
   ],
   "source": [
    "import random as r\n",
    "\n",
    "lista5=[]\n",
    "for i in range(5):\n",
    "    lista5 = lista5 + [r.randint(1, 10)]\n",
    "\n",
    "for i in lista5:\n",
    "    if i in conjunto:\n",
    "        print(\"\\nEl número \", i, \"se encuentra en el set inicial\\n\")\n",
    "    else:\n",
    "        print(\"\\nEl número \", i, \"NO se encuentra en el set inicial\\n\")"
   ]
  }
 ],
 "metadata": {
  "kernelspec": {
   "display_name": "Python 3",
   "language": "python",
   "name": "python3"
  },
  "language_info": {
   "codemirror_mode": {
    "name": "ipython",
    "version": 3
   },
   "file_extension": ".py",
   "mimetype": "text/x-python",
   "name": "python",
   "nbconvert_exporter": "python",
   "pygments_lexer": "ipython3",
   "version": "3.8.3"
  }
 },
 "nbformat": 4,
 "nbformat_minor": 4
}
