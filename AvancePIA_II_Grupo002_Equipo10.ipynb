{
 "cells": [
  {
   "cell_type": "markdown",
   "metadata": {},
   "source": [
    "### Segundo Avance PIA \n",
    "Equipo 10\n",
    "\n",
    "Grupo: 002 (miércoles 7:00 p.m. a 10:00 p.m.)\n",
    "\n",
    "Integrantes:\n",
    "\n",
    " * 1811917 TREJO RODRIGUEZ EVELYN LIZBETH\n",
    " * 1815330 RODRIGUEZ ORTIZ MAGDALY\n",
    " * 1887948 ALEXIS HERNANDEZ MORALES\n"
   ]
  },
  {
   "cell_type": "markdown",
   "metadata": {},
   "source": [
    "#### 1) Título de la base de datos:"
   ]
  },
  {
   "cell_type": "markdown",
   "metadata": {},
   "source": [
    "#####      Sanfranciso Crime Dataset"
   ]
  },
  {
   "cell_type": "markdown",
   "metadata": {},
   "source": [
    "#### 2) Descripción de los datos"
   ]
  },
  {
   "cell_type": "markdown",
   "metadata": {},
   "source": [
    "a) Descripción breve de la base de datos. Esta descripción es en\n",
    "formato de texto, no más de dos párrafos."
   ]
  },
  {
   "cell_type": "markdown",
   "metadata": {},
   "source": [
    "Es un conjunto de datos organizados por tablas que contiene información sobre los crímenes registrados por departamento de policía de la ciudad de San Francisco en el año 2016. \n",
    "\n",
    "El archivo contiene la información sobre las tasas de criminalidad en diferentes regiones de San Francisco con algunos otros aspectos importantes relacionados con la delincuencia, como la hora, lugar, fecha, descripción y resolución del suceso."
   ]
  },
  {
   "cell_type": "markdown",
   "metadata": {},
   "source": [
    "b) Con las herramientas vistas en clase, hacer una descripción de la\n",
    "base de datos en cuanto a las columnas, tipo de dato, tamaño de la\n",
    "base, etc."
   ]
  },
  {
   "cell_type": "code",
   "execution_count": 1,
   "metadata": {},
   "outputs": [],
   "source": [
    "import pandas as pd\n",
    "import numpy as np\n",
    "import json"
   ]
  },
  {
   "cell_type": "code",
   "execution_count": 2,
   "metadata": {},
   "outputs": [],
   "source": [
    "df = pd.read_csv(\"C:/Users/usuario/OneDrive - uanl.edu.mx/Desktop/FCFM/7mo SEMESTRE/MINERIA DE DATOS/Base de datos_Crimenes SF.csv\",encoding='utf8')"
   ]
  },
  {
   "cell_type": "code",
   "execution_count": 3,
   "metadata": {},
   "outputs": [
    {
     "data": {
      "text/html": [
       "<div>\n",
       "<style scoped>\n",
       "    .dataframe tbody tr th:only-of-type {\n",
       "        vertical-align: middle;\n",
       "    }\n",
       "\n",
       "    .dataframe tbody tr th {\n",
       "        vertical-align: top;\n",
       "    }\n",
       "\n",
       "    .dataframe thead th {\n",
       "        text-align: right;\n",
       "    }\n",
       "</style>\n",
       "<table border=\"1\" class=\"dataframe\">\n",
       "  <thead>\n",
       "    <tr style=\"text-align: right;\">\n",
       "      <th></th>\n",
       "      <th>IncidntNum</th>\n",
       "      <th>Category</th>\n",
       "      <th>Descript</th>\n",
       "      <th>DayOfWeek</th>\n",
       "      <th>Date</th>\n",
       "      <th>Time</th>\n",
       "      <th>PdDistrict</th>\n",
       "      <th>Resolution</th>\n",
       "      <th>Address</th>\n",
       "      <th>X</th>\n",
       "      <th>Y</th>\n",
       "      <th>Location</th>\n",
       "      <th>PdId</th>\n",
       "    </tr>\n",
       "  </thead>\n",
       "  <tbody>\n",
       "    <tr>\n",
       "      <th>0</th>\n",
       "      <td>120058272</td>\n",
       "      <td>WEAPON LAWS</td>\n",
       "      <td>POSS OF PROHIBITED WEAPON</td>\n",
       "      <td>Friday</td>\n",
       "      <td>01/29/2016 12:00:00 AM</td>\n",
       "      <td>11:00</td>\n",
       "      <td>SOUTHERN</td>\n",
       "      <td>ARREST, BOOKED</td>\n",
       "      <td>800 Block of BRYANT ST</td>\n",
       "      <td>-122.403405</td>\n",
       "      <td>37.775421</td>\n",
       "      <td>(37.775420706711, -122.403404791479)</td>\n",
       "      <td>1.200580e+13</td>\n",
       "    </tr>\n",
       "    <tr>\n",
       "      <th>1</th>\n",
       "      <td>120058272</td>\n",
       "      <td>WEAPON LAWS</td>\n",
       "      <td>FIREARM, LOADED, IN VEHICLE, POSSESSION OR USE</td>\n",
       "      <td>Friday</td>\n",
       "      <td>01/29/2016 12:00:00 AM</td>\n",
       "      <td>11:00</td>\n",
       "      <td>SOUTHERN</td>\n",
       "      <td>ARREST, BOOKED</td>\n",
       "      <td>800 Block of BRYANT ST</td>\n",
       "      <td>-122.403405</td>\n",
       "      <td>37.775421</td>\n",
       "      <td>(37.775420706711, -122.403404791479)</td>\n",
       "      <td>1.200580e+13</td>\n",
       "    </tr>\n",
       "    <tr>\n",
       "      <th>2</th>\n",
       "      <td>141059263</td>\n",
       "      <td>WARRANTS</td>\n",
       "      <td>WARRANT ARREST</td>\n",
       "      <td>Monday</td>\n",
       "      <td>04/25/2016 12:00:00 AM</td>\n",
       "      <td>14:59</td>\n",
       "      <td>BAYVIEW</td>\n",
       "      <td>ARREST, BOOKED</td>\n",
       "      <td>KEITH ST / SHAFTER AV</td>\n",
       "      <td>-122.388856</td>\n",
       "      <td>37.729981</td>\n",
       "      <td>(37.7299809672996, -122.388856204292)</td>\n",
       "      <td>1.410590e+13</td>\n",
       "    </tr>\n",
       "    <tr>\n",
       "      <th>3</th>\n",
       "      <td>160013662</td>\n",
       "      <td>NON-CRIMINAL</td>\n",
       "      <td>LOST PROPERTY</td>\n",
       "      <td>Tuesday</td>\n",
       "      <td>01/05/2016 00:00</td>\n",
       "      <td>23:50</td>\n",
       "      <td>TENDERLOIN</td>\n",
       "      <td>NONE</td>\n",
       "      <td>JONES ST / OFARRELL ST</td>\n",
       "      <td>-122.412971</td>\n",
       "      <td>37.785788</td>\n",
       "      <td>(37.7857883766888, -122.412970537591)</td>\n",
       "      <td>1.600140e+13</td>\n",
       "    </tr>\n",
       "    <tr>\n",
       "      <th>4</th>\n",
       "      <td>160002740</td>\n",
       "      <td>NON-CRIMINAL</td>\n",
       "      <td>LOST PROPERTY</td>\n",
       "      <td>Friday</td>\n",
       "      <td>01/01/2016 00:00</td>\n",
       "      <td>00:30</td>\n",
       "      <td>MISSION</td>\n",
       "      <td>NONE</td>\n",
       "      <td>16TH ST / MISSION ST</td>\n",
       "      <td>-122.419672</td>\n",
       "      <td>37.765050</td>\n",
       "      <td>(37.7650501214668, -122.419671780296)</td>\n",
       "      <td>1.600030e+13</td>\n",
       "    </tr>\n",
       "  </tbody>\n",
       "</table>\n",
       "</div>"
      ],
      "text/plain": [
       "   IncidntNum      Category                                        Descript  \\\n",
       "0   120058272   WEAPON LAWS                       POSS OF PROHIBITED WEAPON   \n",
       "1   120058272   WEAPON LAWS  FIREARM, LOADED, IN VEHICLE, POSSESSION OR USE   \n",
       "2   141059263      WARRANTS                                  WARRANT ARREST   \n",
       "3   160013662  NON-CRIMINAL                                   LOST PROPERTY   \n",
       "4   160002740  NON-CRIMINAL                                   LOST PROPERTY   \n",
       "\n",
       "  DayOfWeek                    Date   Time  PdDistrict      Resolution  \\\n",
       "0    Friday  01/29/2016 12:00:00 AM  11:00    SOUTHERN  ARREST, BOOKED   \n",
       "1    Friday  01/29/2016 12:00:00 AM  11:00    SOUTHERN  ARREST, BOOKED   \n",
       "2    Monday  04/25/2016 12:00:00 AM  14:59     BAYVIEW  ARREST, BOOKED   \n",
       "3   Tuesday        01/05/2016 00:00  23:50  TENDERLOIN            NONE   \n",
       "4    Friday        01/01/2016 00:00  00:30     MISSION            NONE   \n",
       "\n",
       "                  Address           X          Y  \\\n",
       "0  800 Block of BRYANT ST -122.403405  37.775421   \n",
       "1  800 Block of BRYANT ST -122.403405  37.775421   \n",
       "2   KEITH ST / SHAFTER AV -122.388856  37.729981   \n",
       "3  JONES ST / OFARRELL ST -122.412971  37.785788   \n",
       "4    16TH ST / MISSION ST -122.419672  37.765050   \n",
       "\n",
       "                                Location          PdId  \n",
       "0   (37.775420706711, -122.403404791479)  1.200580e+13  \n",
       "1   (37.775420706711, -122.403404791479)  1.200580e+13  \n",
       "2  (37.7299809672996, -122.388856204292)  1.410590e+13  \n",
       "3  (37.7857883766888, -122.412970537591)  1.600140e+13  \n",
       "4  (37.7650501214668, -122.419671780296)  1.600030e+13  "
      ]
     },
     "execution_count": 3,
     "metadata": {},
     "output_type": "execute_result"
    }
   ],
   "source": [
    "df.head()"
   ]
  },
  {
   "cell_type": "code",
   "execution_count": 4,
   "metadata": {},
   "outputs": [
    {
     "data": {
      "text/plain": [
       "(150500, 13)"
      ]
     },
     "execution_count": 4,
     "metadata": {},
     "output_type": "execute_result"
    }
   ],
   "source": [
    "df.shape"
   ]
  },
  {
   "cell_type": "markdown",
   "metadata": {},
   "source": [
    "##### Tamaño de la base de datos:\n",
    "A través de esta función, podemos observar de la cantidad de columnas y filas de nuestra base de datos original.\n",
    "* Columnas: 13\n",
    "* Filas: 150,500"
   ]
  },
  {
   "cell_type": "code",
   "execution_count": 5,
   "metadata": {},
   "outputs": [
    {
     "data": {
      "text/plain": [
       "Index(['IncidntNum', 'Category', 'Descript', 'DayOfWeek', 'Date', 'Time',\n",
       "       'PdDistrict', 'Resolution', 'Address', 'X', 'Y', 'Location', 'PdId'],\n",
       "      dtype='object')"
      ]
     },
     "execution_count": 5,
     "metadata": {},
     "output_type": "execute_result"
    }
   ],
   "source": [
    "df.columns"
   ]
  },
  {
   "cell_type": "code",
   "execution_count": 6,
   "metadata": {},
   "outputs": [
    {
     "data": {
      "text/plain": [
       "IncidntNum      int64\n",
       "Category       object\n",
       "Descript       object\n",
       "DayOfWeek      object\n",
       "Date           object\n",
       "Time           object\n",
       "PdDistrict     object\n",
       "Resolution     object\n",
       "Address        object\n",
       "X             float64\n",
       "Y             float64\n",
       "Location       object\n",
       "PdId          float64\n",
       "dtype: object"
      ]
     },
     "execution_count": 6,
     "metadata": {},
     "output_type": "execute_result"
    }
   ],
   "source": [
    "df.dtypes"
   ]
  },
  {
   "cell_type": "markdown",
   "metadata": {},
   "source": [
    "##### Descripción de las columnas:"
   ]
  },
  {
   "cell_type": "markdown",
   "metadata": {},
   "source": [
    "* IncidntNum: el número de incidente es de tipo entero de 64 bits.\n",
    "* Category: describe la categoría del delito, es de tipo objeto, es decir, una secuencia de caracteres.\n",
    "* Descript: descripción del crimen, ya sea un robo, asalto, fraudes, es de tipo objeto, es decir, una secuencia de caracteres.\n",
    "* DayOfWeek: el día de la semana en el que ocurrió el delito es de tipo objeto, es decir, una secuencia de caracteres.\n",
    "* Date: la fecha precisa (dd/mm/aaaa) en la que sucedió el crimen es de tipo objeto, es decir, una secuencia de caracteres.\n",
    "* Time: la hora exacta en la que se reportó el crimen es de tipo objeto, es decir, una secuencia de caracteres.\n",
    "* PdDistrict: el distrito del departamento de policía donde se reportó el crimen es de tipo objeto, es decir, una secuencia de caracteres.\n",
    "* Resolution: el tipo de castigo que recibe el autor del crimen es de tipo objeto, es decir, una secuencia de caracteres.\n",
    "* Address: la dirección precisa donde ocurrió la escena del crimen es de tipo objeto, es decir, una secuencia de caracteres.\n",
    "* X: la latitud de la locación del crimen es de tipo flotante de 64 bits.\n",
    "* Y: la longitud de la locación del crimen es de tipo flotante de 64 bits.\n",
    "* Location: las coordenadas exactas donde sucedió el crimen es de tipo objeto, es decir, una secuencia de caracteres.\n",
    "* PdId: el ID del departamento de policía que tomó el crimen es de tipo flotante de 64 bits."
   ]
  },
  {
   "cell_type": "code",
   "execution_count": 7,
   "metadata": {},
   "outputs": [
    {
     "data": {
      "text/plain": [
       "IncidntNum    0\n",
       "Category      0\n",
       "Descript      0\n",
       "DayOfWeek     0\n",
       "Date          0\n",
       "Time          0\n",
       "PdDistrict    1\n",
       "Resolution    0\n",
       "Address       0\n",
       "X             0\n",
       "Y             0\n",
       "Location      0\n",
       "PdId          0\n",
       "dtype: int64"
      ]
     },
     "execution_count": 7,
     "metadata": {},
     "output_type": "execute_result"
    }
   ],
   "source": [
    "df.isnull().sum()"
   ]
  },
  {
   "cell_type": "markdown",
   "metadata": {},
   "source": [
    "Como podemos observar la cantidad de datos válidos en cada una de las columnas de nuestra base de datos es de 150,500 excepto en la columna PdDistrict, que cuenta con un dato nulo, esa columna cuenta con 150,499 datos válidos."
   ]
  },
  {
   "cell_type": "markdown",
   "metadata": {},
   "source": [
    "#### 3) Justificación del uso de datos."
   ]
  },
  {
   "cell_type": "markdown",
   "metadata": {},
   "source": [
    "a) ¿Cuáles fueron las características que les llamó la atención de los\n",
    "datos?¿Qué les hizo querer trabajar con ellos?\n",
    "\n",
    "Al encontrarnos con la base de datos, lo que más llamo nuestra atención no solo fueron los números como tal, si no el significado de cada uno de ellos y cómo repercutían en la población de cada uno de los distritos de San Francisco, así como también que los datos presentados eran más que suficientes para trabajar con la problemática que queríamos resolver.\n"
   ]
  },
  {
   "cell_type": "markdown",
   "metadata": {},
   "source": [
    "b) Qué beneficio encuentran de trabajar con estos datos.\n",
    "\n",
    "En lo concerniente al beneficio que encontramos al trabajar con dicha base de datos, principalmente es que una cantidad considerable de columnas de la misma nos proporciona información muy útil para nuestro objetivo; asimismo, es importante mencionar que el hecho de que nuestros datos están presentados por distritos, representa una mayor facilidad en el manejo de los elementos y a su vez, simplifica el proceso de obtención de resultados  para nuestra problemática."
   ]
  },
  {
   "cell_type": "markdown",
   "metadata": {},
   "source": [
    "#### 4) Mencionar los objetivos (Principal y secundarios)."
   ]
  },
  {
   "cell_type": "markdown",
   "metadata": {},
   "source": [
    "Objetivo Principal:\n",
    "\n",
    "Diseñar un método de clasificación para predecir de forma automática si un lugar específico en la ciudad de San Francisco será un centro de delincuencia o no, brindando al gobierno información útil para que tengan una mejor distribución de sus unidades policiacas, dado cierto día, hora y lugar; conocemos que la detección temprana de los lugares del delito es importante para que la ciudad de San Francisco pueda tomar decisiones preventivas que permitan aumentar la percepción de la seguridad pública. \n",
    "\n",
    "Sabemos que las actividades criminales se encuentran distribuidas aleatoriamente por toda la ciudad, sin embargo, realizando pruebas estadísticas y de visualización obtenemos que tienden a concentrarse en ciertos distritos por razones como escasez de vigilancia, etcétera, es decir, tienden a existir puntos calientes de crimen en donde el número de crímenes está por arriba del promedio, siendo zonas de interés para la prevención de los mismos.\n"
   ]
  },
  {
   "cell_type": "markdown",
   "metadata": {},
   "source": [
    "a) Tomando en cuenta sus resultados con la parte de visualización y\n",
    "estadística básica, pueden añadir objetivos secundarios. "
   ]
  },
  {
   "cell_type": "markdown",
   "metadata": {},
   "source": [
    "Objetivo Secundario:\n",
    "\n",
    "Proveer información referente al porcentaje de casos sin resolución en cada uno de los departamentos de policía de los diferentes distritos de ciudad de San Francisco debido a la variabilidad que existe en estos datos entre los departamentos, siendo de interés para el gobierno la cantidad de criminales que no reciben ninguna sanción o no son arrestados por el departamento de policía, haciendo ver la poca eficacia de cada distrito para la resolución de ellos."
   ]
  },
  {
   "cell_type": "markdown",
   "metadata": {},
   "source": [
    "#### Desarrollo de las herramientas. (Requisitos)\n",
    "##### 1. Siguiendo los pasos realizados en la práctica uno y dos, iniciar con la limpieza de los datos."
   ]
  },
  {
   "cell_type": "markdown",
   "metadata": {},
   "source": [
    "a) Mostrar los datos sin manipulación."
   ]
  },
  {
   "cell_type": "code",
   "execution_count": 36,
   "metadata": {},
   "outputs": [
    {
     "data": {
      "text/html": [
       "<div>\n",
       "<style scoped>\n",
       "    .dataframe tbody tr th:only-of-type {\n",
       "        vertical-align: middle;\n",
       "    }\n",
       "\n",
       "    .dataframe tbody tr th {\n",
       "        vertical-align: top;\n",
       "    }\n",
       "\n",
       "    .dataframe thead th {\n",
       "        text-align: right;\n",
       "    }\n",
       "</style>\n",
       "<table border=\"1\" class=\"dataframe\">\n",
       "  <thead>\n",
       "    <tr style=\"text-align: right;\">\n",
       "      <th></th>\n",
       "      <th>IncidntNum</th>\n",
       "      <th>Category</th>\n",
       "      <th>Descript</th>\n",
       "      <th>DayOfWeek</th>\n",
       "      <th>Date</th>\n",
       "      <th>Time</th>\n",
       "      <th>PdDistrict</th>\n",
       "      <th>Resolution</th>\n",
       "      <th>Address</th>\n",
       "      <th>X</th>\n",
       "      <th>Y</th>\n",
       "      <th>Location</th>\n",
       "      <th>PdId</th>\n",
       "    </tr>\n",
       "  </thead>\n",
       "  <tbody>\n",
       "    <tr>\n",
       "      <th>0</th>\n",
       "      <td>120058272</td>\n",
       "      <td>WEAPON LAWS</td>\n",
       "      <td>POSS OF PROHIBITED WEAPON</td>\n",
       "      <td>Friday</td>\n",
       "      <td>01/29/2016 12:00:00 AM</td>\n",
       "      <td>11:00</td>\n",
       "      <td>SOUTHERN</td>\n",
       "      <td>ARREST, BOOKED</td>\n",
       "      <td>800 Block of BRYANT ST</td>\n",
       "      <td>-122.403405</td>\n",
       "      <td>37.775421</td>\n",
       "      <td>(37.775420706711, -122.403404791479)</td>\n",
       "      <td>1.200580e+13</td>\n",
       "    </tr>\n",
       "    <tr>\n",
       "      <th>1</th>\n",
       "      <td>120058272</td>\n",
       "      <td>WEAPON LAWS</td>\n",
       "      <td>FIREARM, LOADED, IN VEHICLE, POSSESSION OR USE</td>\n",
       "      <td>Friday</td>\n",
       "      <td>01/29/2016 12:00:00 AM</td>\n",
       "      <td>11:00</td>\n",
       "      <td>SOUTHERN</td>\n",
       "      <td>ARREST, BOOKED</td>\n",
       "      <td>800 Block of BRYANT ST</td>\n",
       "      <td>-122.403405</td>\n",
       "      <td>37.775421</td>\n",
       "      <td>(37.775420706711, -122.403404791479)</td>\n",
       "      <td>1.200580e+13</td>\n",
       "    </tr>\n",
       "    <tr>\n",
       "      <th>2</th>\n",
       "      <td>141059263</td>\n",
       "      <td>WARRANTS</td>\n",
       "      <td>WARRANT ARREST</td>\n",
       "      <td>Monday</td>\n",
       "      <td>04/25/2016 12:00:00 AM</td>\n",
       "      <td>14:59</td>\n",
       "      <td>BAYVIEW</td>\n",
       "      <td>ARREST, BOOKED</td>\n",
       "      <td>KEITH ST / SHAFTER AV</td>\n",
       "      <td>-122.388856</td>\n",
       "      <td>37.729981</td>\n",
       "      <td>(37.7299809672996, -122.388856204292)</td>\n",
       "      <td>1.410590e+13</td>\n",
       "    </tr>\n",
       "    <tr>\n",
       "      <th>3</th>\n",
       "      <td>160013662</td>\n",
       "      <td>NON-CRIMINAL</td>\n",
       "      <td>LOST PROPERTY</td>\n",
       "      <td>Tuesday</td>\n",
       "      <td>01/05/2016 00:00</td>\n",
       "      <td>23:50</td>\n",
       "      <td>TENDERLOIN</td>\n",
       "      <td>NONE</td>\n",
       "      <td>JONES ST / OFARRELL ST</td>\n",
       "      <td>-122.412971</td>\n",
       "      <td>37.785788</td>\n",
       "      <td>(37.7857883766888, -122.412970537591)</td>\n",
       "      <td>1.600140e+13</td>\n",
       "    </tr>\n",
       "    <tr>\n",
       "      <th>4</th>\n",
       "      <td>160002740</td>\n",
       "      <td>NON-CRIMINAL</td>\n",
       "      <td>LOST PROPERTY</td>\n",
       "      <td>Friday</td>\n",
       "      <td>01/01/2016 00:00</td>\n",
       "      <td>00:30</td>\n",
       "      <td>MISSION</td>\n",
       "      <td>NONE</td>\n",
       "      <td>16TH ST / MISSION ST</td>\n",
       "      <td>-122.419672</td>\n",
       "      <td>37.765050</td>\n",
       "      <td>(37.7650501214668, -122.419671780296)</td>\n",
       "      <td>1.600030e+13</td>\n",
       "    </tr>\n",
       "    <tr>\n",
       "      <th>...</th>\n",
       "      <td>...</td>\n",
       "      <td>...</td>\n",
       "      <td>...</td>\n",
       "      <td>...</td>\n",
       "      <td>...</td>\n",
       "      <td>...</td>\n",
       "      <td>...</td>\n",
       "      <td>...</td>\n",
       "      <td>...</td>\n",
       "      <td>...</td>\n",
       "      <td>...</td>\n",
       "      <td>...</td>\n",
       "      <td>...</td>\n",
       "    </tr>\n",
       "    <tr>\n",
       "      <th>150495</th>\n",
       "      <td>161061000</td>\n",
       "      <td>ASSAULT</td>\n",
       "      <td>BATTERY</td>\n",
       "      <td>Friday</td>\n",
       "      <td>12/30/2016 12:00:00 AM</td>\n",
       "      <td>21:01</td>\n",
       "      <td>PARK</td>\n",
       "      <td>NONE</td>\n",
       "      <td>OAK ST / STANYAN ST</td>\n",
       "      <td>-122.453982</td>\n",
       "      <td>37.771428</td>\n",
       "      <td>(37.7714278595913, -122.453981622365)</td>\n",
       "      <td>1.610610e+13</td>\n",
       "    </tr>\n",
       "    <tr>\n",
       "      <th>150496</th>\n",
       "      <td>176000742</td>\n",
       "      <td>NON-CRIMINAL</td>\n",
       "      <td>LOST PROPERTY</td>\n",
       "      <td>Friday</td>\n",
       "      <td>12/30/2016 12:00:00 AM</td>\n",
       "      <td>08:00</td>\n",
       "      <td>CENTRAL</td>\n",
       "      <td>NONE</td>\n",
       "      <td>JACKSON ST / SANSOME ST</td>\n",
       "      <td>-122.401857</td>\n",
       "      <td>37.796626</td>\n",
       "      <td>(37.7966261239618, -122.401857374739)</td>\n",
       "      <td>1.760010e+13</td>\n",
       "    </tr>\n",
       "    <tr>\n",
       "      <th>150497</th>\n",
       "      <td>176000758</td>\n",
       "      <td>LARCENY/THEFT</td>\n",
       "      <td>PETTY THEFT OF PROPERTY</td>\n",
       "      <td>Thursday</td>\n",
       "      <td>12/29/2016 12:00:00 AM</td>\n",
       "      <td>20:00</td>\n",
       "      <td>CENTRAL</td>\n",
       "      <td>NONE</td>\n",
       "      <td>PINE ST / TAYLOR ST</td>\n",
       "      <td>-122.412269</td>\n",
       "      <td>37.790673</td>\n",
       "      <td>(37.7906727649886, -122.41226909106)</td>\n",
       "      <td>1.760010e+13</td>\n",
       "    </tr>\n",
       "    <tr>\n",
       "      <th>150498</th>\n",
       "      <td>176000764</td>\n",
       "      <td>LARCENY/THEFT</td>\n",
       "      <td>GRAND THEFT OF PROPERTY</td>\n",
       "      <td>Friday</td>\n",
       "      <td>12/30/2016 12:00:00 AM</td>\n",
       "      <td>10:00</td>\n",
       "      <td>CENTRAL</td>\n",
       "      <td>NONE</td>\n",
       "      <td>200 Block of STOCKTON ST</td>\n",
       "      <td>-122.406659</td>\n",
       "      <td>37.788275</td>\n",
       "      <td>(37.7882745285785, -122.406658711008)</td>\n",
       "      <td>1.760010e+13</td>\n",
       "    </tr>\n",
       "    <tr>\n",
       "      <th>150499</th>\n",
       "      <td>179002868</td>\n",
       "      <td>OTHER OFFENSES</td>\n",
       "      <td>FRAUDULENT GAME OR TRICK, OBTAINING MONEY OR P...</td>\n",
       "      <td>Friday</td>\n",
       "      <td>12/02/2016 00:00</td>\n",
       "      <td>14:00</td>\n",
       "      <td>SOUTHERN</td>\n",
       "      <td>NONE</td>\n",
       "      <td>800 Block of BRYANT ST</td>\n",
       "      <td>-122.403405</td>\n",
       "      <td>37.775421</td>\n",
       "      <td>(37.775420706711, -122.403404791479)</td>\n",
       "      <td>1.790030e+13</td>\n",
       "    </tr>\n",
       "  </tbody>\n",
       "</table>\n",
       "<p>150500 rows × 13 columns</p>\n",
       "</div>"
      ],
      "text/plain": [
       "        IncidntNum        Category  \\\n",
       "0        120058272     WEAPON LAWS   \n",
       "1        120058272     WEAPON LAWS   \n",
       "2        141059263        WARRANTS   \n",
       "3        160013662    NON-CRIMINAL   \n",
       "4        160002740    NON-CRIMINAL   \n",
       "...            ...             ...   \n",
       "150495   161061000         ASSAULT   \n",
       "150496   176000742    NON-CRIMINAL   \n",
       "150497   176000758   LARCENY/THEFT   \n",
       "150498   176000764   LARCENY/THEFT   \n",
       "150499   179002868  OTHER OFFENSES   \n",
       "\n",
       "                                                 Descript DayOfWeek  \\\n",
       "0                               POSS OF PROHIBITED WEAPON    Friday   \n",
       "1          FIREARM, LOADED, IN VEHICLE, POSSESSION OR USE    Friday   \n",
       "2                                          WARRANT ARREST    Monday   \n",
       "3                                           LOST PROPERTY   Tuesday   \n",
       "4                                           LOST PROPERTY    Friday   \n",
       "...                                                   ...       ...   \n",
       "150495                                            BATTERY    Friday   \n",
       "150496                                      LOST PROPERTY    Friday   \n",
       "150497                            PETTY THEFT OF PROPERTY  Thursday   \n",
       "150498                            GRAND THEFT OF PROPERTY    Friday   \n",
       "150499  FRAUDULENT GAME OR TRICK, OBTAINING MONEY OR P...    Friday   \n",
       "\n",
       "                          Date   Time  PdDistrict      Resolution  \\\n",
       "0       01/29/2016 12:00:00 AM  11:00    SOUTHERN  ARREST, BOOKED   \n",
       "1       01/29/2016 12:00:00 AM  11:00    SOUTHERN  ARREST, BOOKED   \n",
       "2       04/25/2016 12:00:00 AM  14:59     BAYVIEW  ARREST, BOOKED   \n",
       "3             01/05/2016 00:00  23:50  TENDERLOIN            NONE   \n",
       "4             01/01/2016 00:00  00:30     MISSION            NONE   \n",
       "...                        ...    ...         ...             ...   \n",
       "150495  12/30/2016 12:00:00 AM  21:01        PARK            NONE   \n",
       "150496  12/30/2016 12:00:00 AM  08:00     CENTRAL            NONE   \n",
       "150497  12/29/2016 12:00:00 AM  20:00     CENTRAL            NONE   \n",
       "150498  12/30/2016 12:00:00 AM  10:00     CENTRAL            NONE   \n",
       "150499        12/02/2016 00:00  14:00    SOUTHERN            NONE   \n",
       "\n",
       "                         Address           X          Y  \\\n",
       "0         800 Block of BRYANT ST -122.403405  37.775421   \n",
       "1         800 Block of BRYANT ST -122.403405  37.775421   \n",
       "2          KEITH ST / SHAFTER AV -122.388856  37.729981   \n",
       "3         JONES ST / OFARRELL ST -122.412971  37.785788   \n",
       "4           16TH ST / MISSION ST -122.419672  37.765050   \n",
       "...                          ...         ...        ...   \n",
       "150495       OAK ST / STANYAN ST -122.453982  37.771428   \n",
       "150496   JACKSON ST / SANSOME ST -122.401857  37.796626   \n",
       "150497       PINE ST / TAYLOR ST -122.412269  37.790673   \n",
       "150498  200 Block of STOCKTON ST -122.406659  37.788275   \n",
       "150499    800 Block of BRYANT ST -122.403405  37.775421   \n",
       "\n",
       "                                     Location          PdId  \n",
       "0        (37.775420706711, -122.403404791479)  1.200580e+13  \n",
       "1        (37.775420706711, -122.403404791479)  1.200580e+13  \n",
       "2       (37.7299809672996, -122.388856204292)  1.410590e+13  \n",
       "3       (37.7857883766888, -122.412970537591)  1.600140e+13  \n",
       "4       (37.7650501214668, -122.419671780296)  1.600030e+13  \n",
       "...                                       ...           ...  \n",
       "150495  (37.7714278595913, -122.453981622365)  1.610610e+13  \n",
       "150496  (37.7966261239618, -122.401857374739)  1.760010e+13  \n",
       "150497   (37.7906727649886, -122.41226909106)  1.760010e+13  \n",
       "150498  (37.7882745285785, -122.406658711008)  1.760010e+13  \n",
       "150499   (37.775420706711, -122.403404791479)  1.790030e+13  \n",
       "\n",
       "[150500 rows x 13 columns]"
      ]
     },
     "execution_count": 36,
     "metadata": {},
     "output_type": "execute_result"
    }
   ],
   "source": [
    "df"
   ]
  },
  {
   "cell_type": "markdown",
   "metadata": {},
   "source": [
    "b) Eliminar columnas no deseadas."
   ]
  },
  {
   "cell_type": "code",
   "execution_count": 37,
   "metadata": {},
   "outputs": [],
   "source": [
    "newbase = df.drop('IncidntNum',axis = 1 )"
   ]
  },
  {
   "cell_type": "markdown",
   "metadata": {},
   "source": [
    "c) Correcta manipulación de los datos nulos dentro de la base de datos."
   ]
  },
  {
   "cell_type": "code",
   "execution_count": 38,
   "metadata": {},
   "outputs": [],
   "source": [
    "newbase_drop = newbase.dropna()"
   ]
  },
  {
   "cell_type": "markdown",
   "metadata": {},
   "source": [
    "d) Cambiar nombre de cada columna"
   ]
  },
  {
   "cell_type": "code",
   "execution_count": 39,
   "metadata": {},
   "outputs": [],
   "source": [
    "nbSF=newbase_drop.rename(columns = {'IncidntNum':'Numero_Incidente','Category':'Categoria_Crimen','Descript':'Descripcion','DayOfWeek':'Dia','Date':'Fecha','Time':'Hora_del_Crimen','PdDistrict':'Distrito_DepartamentoPolicia','Resolution':'Resolucion','Address':'Direccion','X':'Latitud','Y':'Longitud','Location':'Coordenadas','PdId':'ID_DepartamentoPolicia'})"
   ]
  },
  {
   "cell_type": "markdown",
   "metadata": {},
   "source": [
    "Agrupaciones"
   ]
  },
  {
   "cell_type": "code",
   "execution_count": 40,
   "metadata": {},
   "outputs": [
    {
     "data": {
      "text/plain": [
       "array(['SOUTHERN', 'BAYVIEW', 'TENDERLOIN', 'MISSION', 'NORTHERN',\n",
       "       'TARAVAL', 'INGLESIDE', 'CENTRAL', 'RICHMOND', 'PARK'],\n",
       "      dtype=object)"
      ]
     },
     "execution_count": 40,
     "metadata": {},
     "output_type": "execute_result"
    }
   ],
   "source": [
    "nbSF.Distrito_DepartamentoPolicia.unique()"
   ]
  },
  {
   "cell_type": "code",
   "execution_count": 41,
   "metadata": {},
   "outputs": [
    {
     "data": {
      "text/plain": [
       "array(['ARREST, BOOKED', 'NONE', 'JUVENILE BOOKED', 'ARREST, CITED',\n",
       "       'UNFOUNDED', 'JUVENILE DIVERTED',\n",
       "       'CLEARED-CONTACT JUVENILE FOR MORE INFO', 'EXCEPTIONAL CLEARANCE',\n",
       "       'LOCATED', 'PSYCHOPATHIC CASE', 'COMPLAINANT REFUSES TO PROSECUTE',\n",
       "       'NOT PROSECUTED', 'PROSECUTED BY OUTSIDE AGENCY', 'JUVENILE CITED'],\n",
       "      dtype=object)"
      ]
     },
     "execution_count": 41,
     "metadata": {},
     "output_type": "execute_result"
    }
   ],
   "source": [
    "nbSF.Resolucion.unique()"
   ]
  },
  {
   "cell_type": "code",
   "execution_count": 42,
   "metadata": {},
   "outputs": [
    {
     "data": {
      "text/plain": [
       "array(['Friday', 'Monday', 'Tuesday', 'Saturday', 'Thursday', 'Sunday',\n",
       "       'Wednesday'], dtype=object)"
      ]
     },
     "execution_count": 42,
     "metadata": {},
     "output_type": "execute_result"
    }
   ],
   "source": [
    "nbSF.Dia.unique()"
   ]
  },
  {
   "cell_type": "markdown",
   "metadata": {},
   "source": [
    "e) Cambiamos la resolución del crimen, por 0's y 1's"
   ]
  },
  {
   "cell_type": "code",
   "execution_count": 43,
   "metadata": {},
   "outputs": [],
   "source": [
    "nbSF['Resolucion'] = nbSF['Resolucion'].str.replace(',','_')\n",
    "nbSF['Resolucion'] = nbSF['Resolucion'].str.replace(' ','_')\n",
    "nbSF['Resolucion'] = nbSF['Resolucion'].str.replace('-','_')"
   ]
  },
  {
   "cell_type": "code",
   "execution_count": 44,
   "metadata": {},
   "outputs": [],
   "source": [
    "nbSF.Resolucion.replace(to_replace = dict(NONE= 0,UNFOUNDED=0,NOT_PROSECUTED=0,COMPLAINANT_REFUSES_TO_PROSECUTE=0), inplace = True)\n",
    "nbSF.Resolucion.replace(to_replace = dict(ARREST__BOOKED = 1, EXCEPTIONAL_CLEARANCE = 1, JUVENILE_BOOKED=1,ARREST__CITED=1,PSYCHOPATHIC_CASE=1,LOCATED=1,CLEARED_CONTACT_JUVENILE_FOR_MORE_INFO=1,JUVENILE_DIVERTED=1,PROSECUTED_BY_OUTSIDE_AGENCY=1,JUVENILE_CITED=1), inplace = True)"
   ]
  },
  {
   "cell_type": "markdown",
   "metadata": {},
   "source": [
    "f) Explicar a detalle entre cada línea de código la razón por la cual se decidió remover o modificar cada columna."
   ]
  },
  {
   "cell_type": "markdown",
   "metadata": {},
   "source": [
    "Al trabajar en la descripción de datos notamos que había cierta columna que no nos parecía útil, por lo que, procedimos a eliminarla, esta fue la columna con el nombre IncidntNum, la cual solamente nos representaba un folio de cada uno de los casos, este nos sería de gran utilidad en caso de querer información muy específica de algún caso, sin embargo, nos interesa tener una percepción más globalizada por distrito de la ciudad de San Francisco.\n",
    "\n",
    "Proseguimos a eliminar los datos nulos ya que con ellos nuestra base de datos nos generaría espacio innecesario; nos percatamos que solo contenía un dato nulo y fue eliminada toda la fila que contenía dicho dato, este estaba presente en la columna de PdDistrict.\n",
    "\n",
    "Ya que los encabezados de la base de datos se encontraban en un lenguaje inglés debido a la naturaleza de ella, sabemos que en algunos casos se podría dificultar el entender que representa la información, decidimos modificarles el nombre a cada uno de los encabezados.\n",
    "\n",
    "Para poder manejar mejor nuestra base de datos decidimos otorgarle un número a los datos de la columna 'Resolucion', el número cero representaría los casos que no fueron resueltos y el número uno los que sí, pero para ello hicimos hincapié en encontrar los datos únicos de la columna para después clasificarlos en resueltos y no resueltos."
   ]
  },
  {
   "cell_type": "markdown",
   "metadata": {},
   "source": [
    "g) Crear un nuevo archivo con la base de datos editada."
   ]
  },
  {
   "cell_type": "code",
   "execution_count": 46,
   "metadata": {},
   "outputs": [],
   "source": [
    "nbSF.to_csv('NewBaseSanFrancisco.csv', index=False)"
   ]
  },
  {
   "cell_type": "markdown",
   "metadata": {},
   "source": [
    "Guardar archivos con las agrupaciones."
   ]
  },
  {
   "cell_type": "code",
   "execution_count": null,
   "metadata": {},
   "outputs": [],
   "source": [
    "DistTender = nbSF[nbSF['Distrito_DepartamentoPolicia']=='TENDERLOIN']\n",
    "DistNorth = nbSF[nbSF['Distrito_DepartamentoPolicia']=='NORTHERN']\n",
    "DistCentral = nbSF[nbSF['Distrito_DepartamentoPolicia']=='CENTRAL']\n",
    "DistTara = nbSF[nbSF['Distrito_DepartamentoPolicia']=='TARAVAL']\n",
    "DistSouth = nbSF[nbSF['Distrito_DepartamentoPolicia']=='SOUTHERN']\n",
    "DistMission = nbSF[nbSF['Distrito_DepartamentoPolicia']=='MISSION']\n",
    "DistPark = nbSF[nbSF['Distrito_DepartamentoPolicia']=='PARK']\n",
    "DistBay = nbSF[nbSF['Distrito_DepartamentoPolicia']=='BAYVIEW']\n",
    "DistIngle = nbSF[nbSF['Distrito_DepartamentoPolicia']=='INGLESIDE']\n",
    "DistRich = nbSF[nbSF['Distrito_DepartamentoPolicia']=='RICHMOND']\n",
    "\n",
    "\n",
    "DistTender.to_csv('Solo_DistTender.csv', index=False)\n",
    "DistNorth.to_csv('Solo_DistNorth.csv', index=False)\n",
    "DistCentral.to_csv('Solo_DistCentral.csv', index=False)\n",
    "DistTara.to_csv('Solo_DistTara.csv', index=False)\n",
    "DistSouth.to_csv('Solo_DistSouth.csv', index=False)\n",
    "DistMission.to_csv('Solo_DistMission.csv', index=False)\n",
    "DistPark.to_csv('Solo_DistPark.csv', index=False)\n",
    "DistBay.to_csv('Solo_DistBay.csv', index=False)\n",
    "DistIngle.to_csv('Solo_DistIngle.csv', index=False)\n",
    "DistRich.to_csv('Solo_DistRich.csv', index=False)"
   ]
  },
  {
   "cell_type": "markdown",
   "metadata": {},
   "source": [
    "##### 2. Estadística básica de los datos"
   ]
  },
  {
   "cell_type": "markdown",
   "metadata": {},
   "source": [
    "a) Tomando en cuenta sus objetivos, inicia con algunos de los datos estadísticos básicos mostrados en la práctica 2."
   ]
  },
  {
   "cell_type": "markdown",
   "metadata": {},
   "source": [
    "##### Estadísticas Generales del estado de San Francisco"
   ]
  },
  {
   "cell_type": "code",
   "execution_count": 88,
   "metadata": {},
   "outputs": [],
   "source": [
    "grouped_data = nbSF.groupby('Distrito_DepartamentoPolicia')"
   ]
  },
  {
   "cell_type": "code",
   "execution_count": 89,
   "metadata": {},
   "outputs": [
    {
     "data": {
      "text/html": [
       "<div>\n",
       "<style scoped>\n",
       "    .dataframe tbody tr th:only-of-type {\n",
       "        vertical-align: middle;\n",
       "    }\n",
       "\n",
       "    .dataframe tbody tr th {\n",
       "        vertical-align: top;\n",
       "    }\n",
       "\n",
       "    .dataframe thead tr th {\n",
       "        text-align: left;\n",
       "    }\n",
       "\n",
       "    .dataframe thead tr:last-of-type th {\n",
       "        text-align: right;\n",
       "    }\n",
       "</style>\n",
       "<table border=\"1\" class=\"dataframe\">\n",
       "  <thead>\n",
       "    <tr>\n",
       "      <th></th>\n",
       "      <th colspan=\"8\" halign=\"left\">Resolucion</th>\n",
       "      <th colspan=\"2\" halign=\"left\">Latitud</th>\n",
       "      <th>...</th>\n",
       "      <th colspan=\"2\" halign=\"left\">Longitud</th>\n",
       "      <th colspan=\"8\" halign=\"left\">ID_DepartamentoPolicia</th>\n",
       "    </tr>\n",
       "    <tr>\n",
       "      <th></th>\n",
       "      <th>count</th>\n",
       "      <th>mean</th>\n",
       "      <th>std</th>\n",
       "      <th>min</th>\n",
       "      <th>25%</th>\n",
       "      <th>50%</th>\n",
       "      <th>75%</th>\n",
       "      <th>max</th>\n",
       "      <th>count</th>\n",
       "      <th>mean</th>\n",
       "      <th>...</th>\n",
       "      <th>75%</th>\n",
       "      <th>max</th>\n",
       "      <th>count</th>\n",
       "      <th>mean</th>\n",
       "      <th>std</th>\n",
       "      <th>min</th>\n",
       "      <th>25%</th>\n",
       "      <th>50%</th>\n",
       "      <th>75%</th>\n",
       "      <th>max</th>\n",
       "    </tr>\n",
       "    <tr>\n",
       "      <th>Distrito_DepartamentoPolicia</th>\n",
       "      <th></th>\n",
       "      <th></th>\n",
       "      <th></th>\n",
       "      <th></th>\n",
       "      <th></th>\n",
       "      <th></th>\n",
       "      <th></th>\n",
       "      <th></th>\n",
       "      <th></th>\n",
       "      <th></th>\n",
       "      <th></th>\n",
       "      <th></th>\n",
       "      <th></th>\n",
       "      <th></th>\n",
       "      <th></th>\n",
       "      <th></th>\n",
       "      <th></th>\n",
       "      <th></th>\n",
       "      <th></th>\n",
       "      <th></th>\n",
       "      <th></th>\n",
       "    </tr>\n",
       "  </thead>\n",
       "  <tbody>\n",
       "    <tr>\n",
       "      <th>BAYVIEW</th>\n",
       "      <td>14303.0</td>\n",
       "      <td>0.284835</td>\n",
       "      <td>0.451352</td>\n",
       "      <td>0.0</td>\n",
       "      <td>0.0</td>\n",
       "      <td>0.0</td>\n",
       "      <td>1.0</td>\n",
       "      <td>1.0</td>\n",
       "      <td>14303.0</td>\n",
       "      <td>-122.393650</td>\n",
       "      <td>...</td>\n",
       "      <td>37.753535</td>\n",
       "      <td>37.786658</td>\n",
       "      <td>14303.0</td>\n",
       "      <td>1.612838e+13</td>\n",
       "      <td>2.563580e+11</td>\n",
       "      <td>1.135120e+12</td>\n",
       "      <td>1.603070e+13</td>\n",
       "      <td>1.606180e+13</td>\n",
       "      <td>1.609180e+13</td>\n",
       "      <td>1.790010e+13</td>\n",
       "    </tr>\n",
       "    <tr>\n",
       "      <th>CENTRAL</th>\n",
       "      <td>17666.0</td>\n",
       "      <td>0.210744</td>\n",
       "      <td>0.407848</td>\n",
       "      <td>0.0</td>\n",
       "      <td>0.0</td>\n",
       "      <td>0.0</td>\n",
       "      <td>0.0</td>\n",
       "      <td>1.0</td>\n",
       "      <td>17666.0</td>\n",
       "      <td>-122.409467</td>\n",
       "      <td>...</td>\n",
       "      <td>37.803136</td>\n",
       "      <td>37.808625</td>\n",
       "      <td>17666.0</td>\n",
       "      <td>1.620597e+13</td>\n",
       "      <td>6.827688e+11</td>\n",
       "      <td>1.302400e+13</td>\n",
       "      <td>1.603720e+13</td>\n",
       "      <td>1.607050e+13</td>\n",
       "      <td>1.610580e+13</td>\n",
       "      <td>9.903400e+13</td>\n",
       "    </tr>\n",
       "    <tr>\n",
       "      <th>INGLESIDE</th>\n",
       "      <td>11594.0</td>\n",
       "      <td>0.252113</td>\n",
       "      <td>0.434245</td>\n",
       "      <td>0.0</td>\n",
       "      <td>0.0</td>\n",
       "      <td>0.0</td>\n",
       "      <td>1.0</td>\n",
       "      <td>1.0</td>\n",
       "      <td>11594.0</td>\n",
       "      <td>-122.429507</td>\n",
       "      <td>...</td>\n",
       "      <td>37.737435</td>\n",
       "      <td>37.760627</td>\n",
       "      <td>11594.0</td>\n",
       "      <td>1.612180e+13</td>\n",
       "      <td>2.365375e+11</td>\n",
       "      <td>1.207900e+13</td>\n",
       "      <td>1.602810e+13</td>\n",
       "      <td>1.605915e+13</td>\n",
       "      <td>1.609050e+13</td>\n",
       "      <td>1.790040e+13</td>\n",
       "    </tr>\n",
       "    <tr>\n",
       "      <th>MISSION</th>\n",
       "      <td>19503.0</td>\n",
       "      <td>0.345075</td>\n",
       "      <td>0.475405</td>\n",
       "      <td>0.0</td>\n",
       "      <td>0.0</td>\n",
       "      <td>0.0</td>\n",
       "      <td>1.0</td>\n",
       "      <td>1.0</td>\n",
       "      <td>19503.0</td>\n",
       "      <td>-122.419508</td>\n",
       "      <td>...</td>\n",
       "      <td>37.765050</td>\n",
       "      <td>37.781924</td>\n",
       "      <td>19503.0</td>\n",
       "      <td>1.610880e+13</td>\n",
       "      <td>2.042106e+11</td>\n",
       "      <td>1.305510e+13</td>\n",
       "      <td>1.603130e+13</td>\n",
       "      <td>1.606040e+13</td>\n",
       "      <td>1.608770e+13</td>\n",
       "      <td>1.790000e+13</td>\n",
       "    </tr>\n",
       "    <tr>\n",
       "      <th>NORTHERN</th>\n",
       "      <td>20100.0</td>\n",
       "      <td>0.223035</td>\n",
       "      <td>0.416292</td>\n",
       "      <td>0.0</td>\n",
       "      <td>0.0</td>\n",
       "      <td>0.0</td>\n",
       "      <td>0.0</td>\n",
       "      <td>1.0</td>\n",
       "      <td>20100.0</td>\n",
       "      <td>-122.426955</td>\n",
       "      <td>...</td>\n",
       "      <td>37.792384</td>\n",
       "      <td>37.807419</td>\n",
       "      <td>20100.0</td>\n",
       "      <td>1.620565e+13</td>\n",
       "      <td>3.219214e+11</td>\n",
       "      <td>1.602550e+12</td>\n",
       "      <td>1.603640e+13</td>\n",
       "      <td>1.607215e+13</td>\n",
       "      <td>1.660230e+13</td>\n",
       "      <td>1.790020e+13</td>\n",
       "    </tr>\n",
       "    <tr>\n",
       "      <th>PARK</th>\n",
       "      <td>8699.0</td>\n",
       "      <td>0.236809</td>\n",
       "      <td>0.425148</td>\n",
       "      <td>0.0</td>\n",
       "      <td>0.0</td>\n",
       "      <td>0.0</td>\n",
       "      <td>0.0</td>\n",
       "      <td>1.0</td>\n",
       "      <td>8699.0</td>\n",
       "      <td>-122.445663</td>\n",
       "      <td>...</td>\n",
       "      <td>37.775335</td>\n",
       "      <td>37.787519</td>\n",
       "      <td>8699.0</td>\n",
       "      <td>1.615933e+13</td>\n",
       "      <td>2.567230e+11</td>\n",
       "      <td>1.301900e+13</td>\n",
       "      <td>1.603070e+13</td>\n",
       "      <td>1.606380e+13</td>\n",
       "      <td>1.609600e+13</td>\n",
       "      <td>1.761140e+13</td>\n",
       "    </tr>\n",
       "    <tr>\n",
       "      <th>RICHMOND</th>\n",
       "      <td>8922.0</td>\n",
       "      <td>0.166891</td>\n",
       "      <td>0.372899</td>\n",
       "      <td>0.0</td>\n",
       "      <td>0.0</td>\n",
       "      <td>0.0</td>\n",
       "      <td>0.0</td>\n",
       "      <td>1.0</td>\n",
       "      <td>8922.0</td>\n",
       "      <td>-122.473673</td>\n",
       "      <td>...</td>\n",
       "      <td>37.783079</td>\n",
       "      <td>37.819975</td>\n",
       "      <td>8922.0</td>\n",
       "      <td>1.618720e+13</td>\n",
       "      <td>3.521115e+11</td>\n",
       "      <td>1.600360e+12</td>\n",
       "      <td>1.603530e+13</td>\n",
       "      <td>1.607040e+13</td>\n",
       "      <td>1.610410e+13</td>\n",
       "      <td>1.790010e+13</td>\n",
       "    </tr>\n",
       "    <tr>\n",
       "      <th>SOUTHERN</th>\n",
       "      <td>28445.0</td>\n",
       "      <td>0.296361</td>\n",
       "      <td>0.456660</td>\n",
       "      <td>0.0</td>\n",
       "      <td>0.0</td>\n",
       "      <td>0.0</td>\n",
       "      <td>1.0</td>\n",
       "      <td>1.0</td>\n",
       "      <td>28445.0</td>\n",
       "      <td>-122.405254</td>\n",
       "      <td>...</td>\n",
       "      <td>37.783992</td>\n",
       "      <td>37.809671</td>\n",
       "      <td>28445.0</td>\n",
       "      <td>1.619366e+13</td>\n",
       "      <td>7.565020e+11</td>\n",
       "      <td>1.601010e+12</td>\n",
       "      <td>1.603500e+13</td>\n",
       "      <td>1.606930e+13</td>\n",
       "      <td>1.610350e+13</td>\n",
       "      <td>9.613920e+13</td>\n",
       "    </tr>\n",
       "    <tr>\n",
       "      <th>TARAVAL</th>\n",
       "      <td>11325.0</td>\n",
       "      <td>0.246799</td>\n",
       "      <td>0.431168</td>\n",
       "      <td>0.0</td>\n",
       "      <td>0.0</td>\n",
       "      <td>0.0</td>\n",
       "      <td>0.0</td>\n",
       "      <td>1.0</td>\n",
       "      <td>11325.0</td>\n",
       "      <td>-122.477893</td>\n",
       "      <td>...</td>\n",
       "      <td>37.753752</td>\n",
       "      <td>37.766255</td>\n",
       "      <td>11325.0</td>\n",
       "      <td>1.616496e+13</td>\n",
       "      <td>2.675108e+11</td>\n",
       "      <td>8.107650e+12</td>\n",
       "      <td>1.603290e+13</td>\n",
       "      <td>1.606700e+13</td>\n",
       "      <td>1.609740e+13</td>\n",
       "      <td>1.790010e+13</td>\n",
       "    </tr>\n",
       "    <tr>\n",
       "      <th>TENDERLOIN</th>\n",
       "      <td>9942.0</td>\n",
       "      <td>0.440656</td>\n",
       "      <td>0.496491</td>\n",
       "      <td>0.0</td>\n",
       "      <td>0.0</td>\n",
       "      <td>0.0</td>\n",
       "      <td>1.0</td>\n",
       "      <td>1.0</td>\n",
       "      <td>9942.0</td>\n",
       "      <td>-122.412540</td>\n",
       "      <td>...</td>\n",
       "      <td>37.785123</td>\n",
       "      <td>37.787765</td>\n",
       "      <td>9942.0</td>\n",
       "      <td>1.611733e+13</td>\n",
       "      <td>1.204379e+12</td>\n",
       "      <td>2.154670e+12</td>\n",
       "      <td>1.602750e+13</td>\n",
       "      <td>1.605480e+13</td>\n",
       "      <td>1.608540e+13</td>\n",
       "      <td>9.910090e+13</td>\n",
       "    </tr>\n",
       "  </tbody>\n",
       "</table>\n",
       "<p>10 rows × 32 columns</p>\n",
       "</div>"
      ],
      "text/plain": [
       "                             Resolucion                                     \\\n",
       "                                  count      mean       std  min  25%  50%   \n",
       "Distrito_DepartamentoPolicia                                                 \n",
       "BAYVIEW                         14303.0  0.284835  0.451352  0.0  0.0  0.0   \n",
       "CENTRAL                         17666.0  0.210744  0.407848  0.0  0.0  0.0   \n",
       "INGLESIDE                       11594.0  0.252113  0.434245  0.0  0.0  0.0   \n",
       "MISSION                         19503.0  0.345075  0.475405  0.0  0.0  0.0   \n",
       "NORTHERN                        20100.0  0.223035  0.416292  0.0  0.0  0.0   \n",
       "PARK                             8699.0  0.236809  0.425148  0.0  0.0  0.0   \n",
       "RICHMOND                         8922.0  0.166891  0.372899  0.0  0.0  0.0   \n",
       "SOUTHERN                        28445.0  0.296361  0.456660  0.0  0.0  0.0   \n",
       "TARAVAL                         11325.0  0.246799  0.431168  0.0  0.0  0.0   \n",
       "TENDERLOIN                       9942.0  0.440656  0.496491  0.0  0.0  0.0   \n",
       "\n",
       "                                        Latitud              ...   Longitud  \\\n",
       "                              75%  max    count        mean  ...        75%   \n",
       "Distrito_DepartamentoPolicia                                 ...              \n",
       "BAYVIEW                       1.0  1.0  14303.0 -122.393650  ...  37.753535   \n",
       "CENTRAL                       0.0  1.0  17666.0 -122.409467  ...  37.803136   \n",
       "INGLESIDE                     1.0  1.0  11594.0 -122.429507  ...  37.737435   \n",
       "MISSION                       1.0  1.0  19503.0 -122.419508  ...  37.765050   \n",
       "NORTHERN                      0.0  1.0  20100.0 -122.426955  ...  37.792384   \n",
       "PARK                          0.0  1.0   8699.0 -122.445663  ...  37.775335   \n",
       "RICHMOND                      0.0  1.0   8922.0 -122.473673  ...  37.783079   \n",
       "SOUTHERN                      1.0  1.0  28445.0 -122.405254  ...  37.783992   \n",
       "TARAVAL                       0.0  1.0  11325.0 -122.477893  ...  37.753752   \n",
       "TENDERLOIN                    1.0  1.0   9942.0 -122.412540  ...  37.785123   \n",
       "\n",
       "                                        ID_DepartamentoPolicia                \\\n",
       "                                    max                  count          mean   \n",
       "Distrito_DepartamentoPolicia                                                   \n",
       "BAYVIEW                       37.786658                14303.0  1.612838e+13   \n",
       "CENTRAL                       37.808625                17666.0  1.620597e+13   \n",
       "INGLESIDE                     37.760627                11594.0  1.612180e+13   \n",
       "MISSION                       37.781924                19503.0  1.610880e+13   \n",
       "NORTHERN                      37.807419                20100.0  1.620565e+13   \n",
       "PARK                          37.787519                 8699.0  1.615933e+13   \n",
       "RICHMOND                      37.819975                 8922.0  1.618720e+13   \n",
       "SOUTHERN                      37.809671                28445.0  1.619366e+13   \n",
       "TARAVAL                       37.766255                11325.0  1.616496e+13   \n",
       "TENDERLOIN                    37.787765                 9942.0  1.611733e+13   \n",
       "\n",
       "                                                                        \\\n",
       "                                       std           min           25%   \n",
       "Distrito_DepartamentoPolicia                                             \n",
       "BAYVIEW                       2.563580e+11  1.135120e+12  1.603070e+13   \n",
       "CENTRAL                       6.827688e+11  1.302400e+13  1.603720e+13   \n",
       "INGLESIDE                     2.365375e+11  1.207900e+13  1.602810e+13   \n",
       "MISSION                       2.042106e+11  1.305510e+13  1.603130e+13   \n",
       "NORTHERN                      3.219214e+11  1.602550e+12  1.603640e+13   \n",
       "PARK                          2.567230e+11  1.301900e+13  1.603070e+13   \n",
       "RICHMOND                      3.521115e+11  1.600360e+12  1.603530e+13   \n",
       "SOUTHERN                      7.565020e+11  1.601010e+12  1.603500e+13   \n",
       "TARAVAL                       2.675108e+11  8.107650e+12  1.603290e+13   \n",
       "TENDERLOIN                    1.204379e+12  2.154670e+12  1.602750e+13   \n",
       "\n",
       "                                                                        \n",
       "                                       50%           75%           max  \n",
       "Distrito_DepartamentoPolicia                                            \n",
       "BAYVIEW                       1.606180e+13  1.609180e+13  1.790010e+13  \n",
       "CENTRAL                       1.607050e+13  1.610580e+13  9.903400e+13  \n",
       "INGLESIDE                     1.605915e+13  1.609050e+13  1.790040e+13  \n",
       "MISSION                       1.606040e+13  1.608770e+13  1.790000e+13  \n",
       "NORTHERN                      1.607215e+13  1.660230e+13  1.790020e+13  \n",
       "PARK                          1.606380e+13  1.609600e+13  1.761140e+13  \n",
       "RICHMOND                      1.607040e+13  1.610410e+13  1.790010e+13  \n",
       "SOUTHERN                      1.606930e+13  1.610350e+13  9.613920e+13  \n",
       "TARAVAL                       1.606700e+13  1.609740e+13  1.790010e+13  \n",
       "TENDERLOIN                    1.605480e+13  1.608540e+13  9.910090e+13  \n",
       "\n",
       "[10 rows x 32 columns]"
      ]
     },
     "execution_count": 89,
     "metadata": {},
     "output_type": "execute_result"
    }
   ],
   "source": [
    "grouped_data.describe()"
   ]
  },
  {
   "cell_type": "code",
   "execution_count": 84,
   "metadata": {},
   "outputs": [
    {
     "data": {
      "text/html": [
       "<div>\n",
       "<style scoped>\n",
       "    .dataframe tbody tr th:only-of-type {\n",
       "        vertical-align: middle;\n",
       "    }\n",
       "\n",
       "    .dataframe tbody tr th {\n",
       "        vertical-align: top;\n",
       "    }\n",
       "\n",
       "    .dataframe thead th {\n",
       "        text-align: right;\n",
       "    }\n",
       "</style>\n",
       "<table border=\"1\" class=\"dataframe\">\n",
       "  <thead>\n",
       "    <tr style=\"text-align: right;\">\n",
       "      <th></th>\n",
       "      <th>Distrito</th>\n",
       "      <th>Cantidad_de_Crimenes_en_San_Francisco</th>\n",
       "    </tr>\n",
       "  </thead>\n",
       "  <tbody>\n",
       "    <tr>\n",
       "      <th>0</th>\n",
       "      <td>SOUTHERN</td>\n",
       "      <td>28445</td>\n",
       "    </tr>\n",
       "    <tr>\n",
       "      <th>1</th>\n",
       "      <td>BAYVIEW</td>\n",
       "      <td>14303</td>\n",
       "    </tr>\n",
       "    <tr>\n",
       "      <th>2</th>\n",
       "      <td>TENDERLOIN</td>\n",
       "      <td>9942</td>\n",
       "    </tr>\n",
       "    <tr>\n",
       "      <th>3</th>\n",
       "      <td>MISSION</td>\n",
       "      <td>19503</td>\n",
       "    </tr>\n",
       "    <tr>\n",
       "      <th>4</th>\n",
       "      <td>NORTHERN</td>\n",
       "      <td>20100</td>\n",
       "    </tr>\n",
       "    <tr>\n",
       "      <th>5</th>\n",
       "      <td>TARAVAL</td>\n",
       "      <td>11325</td>\n",
       "    </tr>\n",
       "    <tr>\n",
       "      <th>6</th>\n",
       "      <td>INGLESIDE</td>\n",
       "      <td>11594</td>\n",
       "    </tr>\n",
       "    <tr>\n",
       "      <th>7</th>\n",
       "      <td>CENTRAL</td>\n",
       "      <td>17666</td>\n",
       "    </tr>\n",
       "    <tr>\n",
       "      <th>8</th>\n",
       "      <td>RICHMOND</td>\n",
       "      <td>8922</td>\n",
       "    </tr>\n",
       "    <tr>\n",
       "      <th>9</th>\n",
       "      <td>PARK</td>\n",
       "      <td>8699</td>\n",
       "    </tr>\n",
       "  </tbody>\n",
       "</table>\n",
       "</div>"
      ],
      "text/plain": [
       "     Distrito  Cantidad_de_Crimenes_en_San_Francisco\n",
       "0    SOUTHERN                                  28445\n",
       "1     BAYVIEW                                  14303\n",
       "2  TENDERLOIN                                   9942\n",
       "3     MISSION                                  19503\n",
       "4    NORTHERN                                  20100\n",
       "5     TARAVAL                                  11325\n",
       "6   INGLESIDE                                  11594\n",
       "7     CENTRAL                                  17666\n",
       "8    RICHMOND                                   8922\n",
       "9        PARK                                   8699"
      ]
     },
     "execution_count": 84,
     "metadata": {},
     "output_type": "execute_result"
    }
   ],
   "source": [
    "ddist = pd.DataFrame({\"Distrito\": ['SOUTHERN', 'BAYVIEW', 'TENDERLOIN', 'MISSION', 'NORTHERN',\n",
    "       'TARAVAL', 'INGLESIDE', 'CENTRAL', 'RICHMOND', 'PARK'],\n",
    "                   \"Cantidad_de_Crimenes_en_San_Francisco\": [28445,14303,9942, 19503, 20100, 11325,11594,17666,8922,8699],})\n",
    "ddist"
   ]
  },
  {
   "cell_type": "markdown",
   "metadata": {},
   "source": [
    "##### Promedio de crímenes en San Francisco:"
   ]
  },
  {
   "cell_type": "code",
   "execution_count": 90,
   "metadata": {},
   "outputs": [
    {
     "data": {
      "text/plain": [
       "15049.9"
      ]
     },
     "execution_count": 90,
     "metadata": {},
     "output_type": "execute_result"
    }
   ],
   "source": [
    "ddist['Cantidad_de_Crimenes_en_San_Francisco'].mean()"
   ]
  },
  {
   "cell_type": "markdown",
   "metadata": {},
   "source": [
    "##### Desviación Estándar de crímenes en San Francisco:"
   ]
  },
  {
   "cell_type": "code",
   "execution_count": 91,
   "metadata": {},
   "outputs": [
    {
     "data": {
      "text/plain": [
       "6341.731352276321"
      ]
     },
     "execution_count": 91,
     "metadata": {},
     "output_type": "execute_result"
    }
   ],
   "source": [
    "ddist['Cantidad_de_Crimenes_en_San_Francisco'].std()"
   ]
  },
  {
   "cell_type": "code",
   "execution_count": 92,
   "metadata": {},
   "outputs": [
    {
     "data": {
      "text/plain": [
       "count       10.000000\n",
       "mean     15049.900000\n",
       "std       6341.731352\n",
       "min       8699.000000\n",
       "25%      10287.750000\n",
       "50%      12948.500000\n",
       "75%      19043.750000\n",
       "max      28445.000000\n",
       "Name: Cantidad_de_Crimenes_en_San_Francisco, dtype: float64"
      ]
     },
     "execution_count": 92,
     "metadata": {},
     "output_type": "execute_result"
    }
   ],
   "source": [
    "ddist['Cantidad_de_Crimenes_en_San_Francisco'].describe()"
   ]
  },
  {
   "cell_type": "markdown",
   "metadata": {},
   "source": [
    "##### Crímenes totales en San Francisco 2016"
   ]
  },
  {
   "cell_type": "code",
   "execution_count": 93,
   "metadata": {},
   "outputs": [
    {
     "data": {
      "text/plain": [
       "150499"
      ]
     },
     "execution_count": 93,
     "metadata": {},
     "output_type": "execute_result"
    }
   ],
   "source": [
    "total= ddist['Cantidad_de_Crimenes_en_San_Francisco'].sum()\n",
    "total"
   ]
  },
  {
   "cell_type": "markdown",
   "metadata": {},
   "source": [
    "##### Porcentaje de crímenes correspondientes por distrito."
   ]
  },
  {
   "cell_type": "code",
   "execution_count": 69,
   "metadata": {},
   "outputs": [],
   "source": [
    "cri_sou=nbSF.groupby('Distrito_DepartamentoPolicia')['ID_DepartamentoPolicia'].count()['SOUTHERN']\n",
    "meansou=cri_sou/total\n",
    "cri_bay=nbSF.groupby('Distrito_DepartamentoPolicia')['ID_DepartamentoPolicia'].count()['BAYVIEW']\n",
    "meanbay=cri_bay/total\n",
    "cri_ten=nbSF.groupby('Distrito_DepartamentoPolicia')['ID_DepartamentoPolicia'].count()['TENDERLOIN']\n",
    "meanten=cri_ten/total\n",
    "cri_mis=nbSF.groupby('Distrito_DepartamentoPolicia')['ID_DepartamentoPolicia'].count()['MISSION']\n",
    "meanmis=cri_mis/total\n",
    "cri_nor=nbSF.groupby('Distrito_DepartamentoPolicia')['ID_DepartamentoPolicia'].count()['NORTHERN']\n",
    "meannor=cri_nor/total\n",
    "cri_tar=nbSF.groupby('Distrito_DepartamentoPolicia')['ID_DepartamentoPolicia'].count()['TARAVAL']\n",
    "meantar=cri_tar/total\n",
    "cri_ing=nbSF.groupby('Distrito_DepartamentoPolicia')['ID_DepartamentoPolicia'].count()['INGLESIDE']\n",
    "meaning=cri_ing/total\n",
    "cri_cen=nbSF.groupby('Distrito_DepartamentoPolicia')['ID_DepartamentoPolicia'].count()['CENTRAL']\n",
    "meancen=cri_cen/total\n",
    "cri_ric=nbSF.groupby('Distrito_DepartamentoPolicia')['ID_DepartamentoPolicia'].count()['RICHMOND']\n",
    "meanric=cri_ric/total\n",
    "cri_par=nbSF.groupby('Distrito_DepartamentoPolicia')['ID_DepartamentoPolicia'].count()['PARK']\n",
    "meanpar=cri_par/total"
   ]
  },
  {
   "cell_type": "code",
   "execution_count": 106,
   "metadata": {},
   "outputs": [
    {
     "data": {
      "text/html": [
       "<div>\n",
       "<style scoped>\n",
       "    .dataframe tbody tr th:only-of-type {\n",
       "        vertical-align: middle;\n",
       "    }\n",
       "\n",
       "    .dataframe tbody tr th {\n",
       "        vertical-align: top;\n",
       "    }\n",
       "\n",
       "    .dataframe thead th {\n",
       "        text-align: right;\n",
       "    }\n",
       "</style>\n",
       "<table border=\"1\" class=\"dataframe\">\n",
       "  <thead>\n",
       "    <tr style=\"text-align: right;\">\n",
       "      <th></th>\n",
       "      <th>Distrito</th>\n",
       "      <th>Porcentaje_de_Crimenes_por_Distrito</th>\n",
       "    </tr>\n",
       "  </thead>\n",
       "  <tbody>\n",
       "    <tr>\n",
       "      <th>0</th>\n",
       "      <td>SOUTHERN</td>\n",
       "      <td>0.189005</td>\n",
       "    </tr>\n",
       "    <tr>\n",
       "      <th>1</th>\n",
       "      <td>BAYVIEW</td>\n",
       "      <td>0.095037</td>\n",
       "    </tr>\n",
       "    <tr>\n",
       "      <th>2</th>\n",
       "      <td>TENDERLOIN</td>\n",
       "      <td>0.066060</td>\n",
       "    </tr>\n",
       "    <tr>\n",
       "      <th>3</th>\n",
       "      <td>MISSION</td>\n",
       "      <td>0.129589</td>\n",
       "    </tr>\n",
       "    <tr>\n",
       "      <th>4</th>\n",
       "      <td>NORTHERN</td>\n",
       "      <td>0.133556</td>\n",
       "    </tr>\n",
       "    <tr>\n",
       "      <th>5</th>\n",
       "      <td>TARAVAL</td>\n",
       "      <td>0.075250</td>\n",
       "    </tr>\n",
       "    <tr>\n",
       "      <th>6</th>\n",
       "      <td>INGLESIDE</td>\n",
       "      <td>0.077037</td>\n",
       "    </tr>\n",
       "    <tr>\n",
       "      <th>7</th>\n",
       "      <td>CENTRAL</td>\n",
       "      <td>0.117383</td>\n",
       "    </tr>\n",
       "    <tr>\n",
       "      <th>8</th>\n",
       "      <td>RICHMOND</td>\n",
       "      <td>0.059283</td>\n",
       "    </tr>\n",
       "    <tr>\n",
       "      <th>9</th>\n",
       "      <td>PARK</td>\n",
       "      <td>0.057801</td>\n",
       "    </tr>\n",
       "  </tbody>\n",
       "</table>\n",
       "</div>"
      ],
      "text/plain": [
       "     Distrito  Porcentaje_de_Crimenes_por_Distrito \n",
       "0    SOUTHERN                              0.189005\n",
       "1     BAYVIEW                              0.095037\n",
       "2  TENDERLOIN                              0.066060\n",
       "3     MISSION                              0.129589\n",
       "4    NORTHERN                              0.133556\n",
       "5     TARAVAL                              0.075250\n",
       "6   INGLESIDE                              0.077037\n",
       "7     CENTRAL                              0.117383\n",
       "8    RICHMOND                              0.059283\n",
       "9        PARK                              0.057801"
      ]
     },
     "execution_count": 106,
     "metadata": {},
     "output_type": "execute_result"
    }
   ],
   "source": [
    "pordis = pd.DataFrame({\"Distrito\": ['SOUTHERN', 'BAYVIEW', 'TENDERLOIN', 'MISSION', 'NORTHERN',\n",
    "       'TARAVAL', 'INGLESIDE', 'CENTRAL', 'RICHMOND', 'PARK'],\n",
    "                   \"Porcentaje_de_Crimenes_por_Distrito \": [meansou,meanbay,meanten,meanmis,meannor,meantar,meaning,meancen,meanric,meanpar],})\n",
    "pordis"
   ]
  },
  {
   "cell_type": "markdown",
   "metadata": {},
   "source": [
    "#### Resolución"
   ]
  },
  {
   "cell_type": "code",
   "execution_count": 72,
   "metadata": {},
   "outputs": [],
   "source": [
    "bay = pd.read_csv(\"C:/Users/usuario/OneDrive - uanl.edu.mx/Desktop/FCFM/7mo SEMESTRE/MINERIA DE DATOS/Solo_DistBay.csv\",encoding='utf8')\n",
    "central = pd.read_csv(\"C:/Users/usuario/OneDrive - uanl.edu.mx/Desktop/FCFM/7mo SEMESTRE/MINERIA DE DATOS/Solo_DistCentral.csv\",encoding='utf8')\n",
    "ingle = pd.read_csv(\"C:/Users/usuario/OneDrive - uanl.edu.mx/Desktop/FCFM/7mo SEMESTRE/MINERIA DE DATOS/Solo_DistIngle.csv\",encoding='utf8')\n",
    "south = pd.read_csv(\"C:/Users/usuario/OneDrive - uanl.edu.mx/Desktop/FCFM/7mo SEMESTRE/MINERIA DE DATOS/Solo_DistSouth.csv\",encoding='utf8')\n",
    "tender = pd.read_csv(\"C:/Users/usuario/OneDrive - uanl.edu.mx/Desktop/FCFM/7mo SEMESTRE/MINERIA DE DATOS/Solo_DistTender.csv\",encoding='utf8')\n",
    "mission = pd.read_csv(\"C:/Users/usuario/OneDrive - uanl.edu.mx/Desktop/FCFM/7mo SEMESTRE/MINERIA DE DATOS/Solo_DistMission.csv\",encoding='utf8')\n",
    "north = pd.read_csv(\"C:/Users/usuario/OneDrive - uanl.edu.mx/Desktop/FCFM/7mo SEMESTRE/MINERIA DE DATOS/Solo_DistNorth.csv\",encoding='utf8')\n",
    "tara = pd.read_csv(\"C:/Users/usuario/OneDrive - uanl.edu.mx/Desktop/FCFM/7mo SEMESTRE/MINERIA DE DATOS/Solo_DistTara.csv\",encoding='utf8')\n",
    "rich = pd.read_csv(\"C:/Users/usuario/OneDrive - uanl.edu.mx/Desktop/FCFM/7mo SEMESTRE/MINERIA DE DATOS/Solo_DistRich.csv\",encoding='utf8')\n",
    "park = pd.read_csv(\"C:/Users/usuario/OneDrive - uanl.edu.mx/Desktop/FCFM/7mo SEMESTRE/MINERIA DE DATOS/Solo_DistPark.csv\",encoding='utf8')\n"
   ]
  },
  {
   "cell_type": "code",
   "execution_count": 80,
   "metadata": {},
   "outputs": [],
   "source": [
    "b=bay['Resolucion'].mean()\n",
    "c=central['Resolucion'].mean()\n",
    "i=ingle['Resolucion'].mean()\n",
    "so=south['Resolucion'].mean()\n",
    "t=tender['Resolucion'].mean()\n",
    "m=mission['Resolucion'].mean()\n",
    "n=north['Resolucion'].mean()\n",
    "ta=tara['Resolucion'].mean()\n",
    "r=rich['Resolucion'].mean()\n",
    "p=park['Resolucion'].mean()"
   ]
  },
  {
   "cell_type": "code",
   "execution_count": 81,
   "metadata": {},
   "outputs": [
    {
     "data": {
      "text/html": [
       "<div>\n",
       "<style scoped>\n",
       "    .dataframe tbody tr th:only-of-type {\n",
       "        vertical-align: middle;\n",
       "    }\n",
       "\n",
       "    .dataframe tbody tr th {\n",
       "        vertical-align: top;\n",
       "    }\n",
       "\n",
       "    .dataframe thead th {\n",
       "        text-align: right;\n",
       "    }\n",
       "</style>\n",
       "<table border=\"1\" class=\"dataframe\">\n",
       "  <thead>\n",
       "    <tr style=\"text-align: right;\">\n",
       "      <th></th>\n",
       "      <th>Distrito</th>\n",
       "      <th>Promedio_de_Crimenes_Resueltos</th>\n",
       "    </tr>\n",
       "  </thead>\n",
       "  <tbody>\n",
       "    <tr>\n",
       "      <th>0</th>\n",
       "      <td>SOUTHERN</td>\n",
       "      <td>0.296361</td>\n",
       "    </tr>\n",
       "    <tr>\n",
       "      <th>1</th>\n",
       "      <td>BAYVIEW</td>\n",
       "      <td>0.284835</td>\n",
       "    </tr>\n",
       "    <tr>\n",
       "      <th>2</th>\n",
       "      <td>TENDERLOIN</td>\n",
       "      <td>0.440656</td>\n",
       "    </tr>\n",
       "    <tr>\n",
       "      <th>3</th>\n",
       "      <td>MISSION</td>\n",
       "      <td>0.345075</td>\n",
       "    </tr>\n",
       "    <tr>\n",
       "      <th>4</th>\n",
       "      <td>NORTHERN</td>\n",
       "      <td>0.223035</td>\n",
       "    </tr>\n",
       "    <tr>\n",
       "      <th>5</th>\n",
       "      <td>TARAVAL</td>\n",
       "      <td>0.246799</td>\n",
       "    </tr>\n",
       "    <tr>\n",
       "      <th>6</th>\n",
       "      <td>INGLESIDE</td>\n",
       "      <td>0.252113</td>\n",
       "    </tr>\n",
       "    <tr>\n",
       "      <th>7</th>\n",
       "      <td>CENTRAL</td>\n",
       "      <td>0.210744</td>\n",
       "    </tr>\n",
       "    <tr>\n",
       "      <th>8</th>\n",
       "      <td>RICHMOND</td>\n",
       "      <td>0.166891</td>\n",
       "    </tr>\n",
       "    <tr>\n",
       "      <th>9</th>\n",
       "      <td>PARK</td>\n",
       "      <td>0.236809</td>\n",
       "    </tr>\n",
       "  </tbody>\n",
       "</table>\n",
       "</div>"
      ],
      "text/plain": [
       "     Distrito  Promedio_de_Crimenes_Resueltos\n",
       "0    SOUTHERN                        0.296361\n",
       "1     BAYVIEW                        0.284835\n",
       "2  TENDERLOIN                        0.440656\n",
       "3     MISSION                        0.345075\n",
       "4    NORTHERN                        0.223035\n",
       "5     TARAVAL                        0.246799\n",
       "6   INGLESIDE                        0.252113\n",
       "7     CENTRAL                        0.210744\n",
       "8    RICHMOND                        0.166891\n",
       "9        PARK                        0.236809"
      ]
     },
     "execution_count": 81,
     "metadata": {},
     "output_type": "execute_result"
    }
   ],
   "source": [
    "porres = pd.DataFrame({\"Distrito\": ['SOUTHERN', 'BAYVIEW', 'TENDERLOIN', 'MISSION', 'NORTHERN',\n",
    "       'TARAVAL', 'INGLESIDE', 'CENTRAL', 'RICHMOND', 'PARK'],\n",
    "                   \"Promedio_de_Crimenes_Resueltos\": [so,b,t,m,n,ta,i,c,r,p],})\n",
    "porres"
   ]
  },
  {
   "cell_type": "markdown",
   "metadata": {},
   "source": [
    "##### Promedio de Crímenes Resueltos en San Francisco:"
   ]
  },
  {
   "cell_type": "code",
   "execution_count": 94,
   "metadata": {},
   "outputs": [
    {
     "data": {
      "text/plain": [
       "0.2730117808091748"
      ]
     },
     "execution_count": 94,
     "metadata": {},
     "output_type": "execute_result"
    }
   ],
   "source": [
    "nbSF['Resolucion'].mean()"
   ]
  },
  {
   "attachments": {},
   "cell_type": "markdown",
   "metadata": {},
   "source": [
    "b) Explicar a detalle porque se utilizó cada uno de ellos, y\n",
    "comentar los resultados al final. (¿Qué es lo que me dicen\n",
    "estos datos con respecto a mis objetivos o planteamiento\n",
    "del problema? Ej. Promedios, medias, máximos, etc.)"
   ]
  },
  {
   "cell_type": "markdown",
   "metadata": {},
   "source": [
    "* Promedio de crímenes en San Francisco:"
   ]
  },
  {
   "cell_type": "markdown",
   "metadata": {},
   "source": [
    "El estadístico de la media nos ayudará a tener una noción de la cantidad de crímenes que se esperan por cada distrito, verificando las frecuencias que sobrepasen o se mantengan por debajo de esta.\n",
    "\n",
    "\n",
    "Podemos observar que la media es de 15049.9, por lo que distritos como SOUTHERN, MISSION, y NORTHERN cuentan con una frecuencia de crímenes mayor a lo esperado, dando indicios de posibles puntos calientes, de forma contraria los distritos de PARK, RICHMOND y TENDERLOIN tienen una incidencia menor a nuestra media pudiéndose considerar zonas más seguras."
   ]
  },
  {
   "cell_type": "markdown",
   "metadata": {},
   "source": [
    "* Desviación Estándar de crímenes en San Francisco:"
   ]
  },
  {
   "cell_type": "markdown",
   "metadata": {},
   "source": [
    "Otro estadístico importante de calcular es la desviación estándar, ya que este nos indicará que tan alejados están nuestros incidentes respecto a la media de crímenes, en nuestro caso 6341.731352 se espera que varíe respecto a 15049.9 ya sea por encima o por debajo."
   ]
  },
  {
   "cell_type": "markdown",
   "metadata": {},
   "source": [
    "* Promedio de Crímenes Resueltos en San Francisco:"
   ]
  },
  {
   "cell_type": "markdown",
   "metadata": {},
   "source": [
    "Al trabajar con crímenes en la ciudad de San Francisco creemos que es de gran importancia el saber el porcentaje de cuantos de esos casos son resueltos; al momento de realizar dicho estimador nos percatamos de que solamente el 0.2730 de los casos totales tienen un seguimiento eficaz, lo cual nos quiere decir que la mayor parte de los casos no son resueltos. \n",
    "Al realizar el mismo procedimiento, pero ahora por distrito, notamos que el el caso no es muy distinto y que la mayor parte de ellos tienen un porcentaje muy bajo de resolución, a excepción de TENDERLOIN, MISSION, SOUTHERN y BAYVIEW que sobrepasan a la media de resolución."
   ]
  },
  {
   "cell_type": "markdown",
   "metadata": {},
   "source": [
    "##### 3. Gráficas."
   ]
  },
  {
   "cell_type": "markdown",
   "metadata": {},
   "source": [
    "a) Tomen en cuenta los resultados de la estadística descriptiva\n",
    "básica y realicen al menos 4 gráficas que les ayude a\n",
    "entender mejor su base de datos.\n",
    "\n",
    "c) Realizar conclusiones en cada una de las gráficas, y darles\n",
    "cohesión entre ellas. Esto quiere decir, que dependiendo de\n",
    "los resultados de la gráfica anterior, se hace la gráfica\n",
    "siguiente."
   ]
  },
  {
   "cell_type": "code",
   "execution_count": 95,
   "metadata": {
    "scrolled": true
   },
   "outputs": [
    {
     "data": {
      "text/plain": [
       "<matplotlib.axes._subplots.AxesSubplot at 0x15c81397820>"
      ]
     },
     "execution_count": 95,
     "metadata": {},
     "output_type": "execute_result"
    },
    {
     "data": {
      "image/png": "[encoded data removed]",
      "text/plain": [
       "<Figure size 432x288 with 1 Axes>"
      ]
     },
     "metadata": {
      "needs_background": "light"
     },
     "output_type": "display_data"
    }
   ],
   "source": [
    "nbSF['Distrito_DepartamentoPolicia'].value_counts().plot.bar()"
   ]
  },
  {
   "cell_type": "markdown",
   "metadata": {},
   "source": [
    "Analizando la gráfica anterior, la cual representa el número de casos por distrito, notamos que el que tiene más crímenes a finales del 2016 en San Francisco es SOUTHERN y el distrito con menos crímenes es PARK"
   ]
  },
  {
   "cell_type": "code",
   "execution_count": 103,
   "metadata": {},
   "outputs": [
    {
     "data": {
      "text/plain": [
       "<seaborn.axisgrid.FacetGrid at 0x15c8222dfa0>"
      ]
     },
     "execution_count": 103,
     "metadata": {},
     "output_type": "execute_result"
    },
    {
     "data": {
      "image/png": "[encoded data removed]",
      "text/plain": [
       "<Figure size 513.875x360 with 1 Axes>"
      ]
     },
     "metadata": {
      "needs_background": "light"
     },
     "output_type": "display_data"
    }
   ],
   "source": [
    "import seaborn as sns\n",
    "import matplotlib.pyplot as plt\n",
    "\n",
    "sns.lmplot(x='Latitud', y='Longitud', hue='Distrito_DepartamentoPolicia', \n",
    "           data=nbSF.loc[nbSF['Distrito_DepartamentoPolicia'].isin(['SOUTHERN', 'BAYVIEW', 'TENDERLOIN', 'MISSION', 'NORTHERN',\n",
    "       'TARAVAL', 'INGLESIDE', 'CENTRAL', 'RICHMOND', 'PARK'])], \n",
    "           fit_reg=False)"
   ]
  },
  {
   "cell_type": "markdown",
   "metadata": {},
   "source": [
    "Después de dichos resultados, podríamos suponer que SOUTHERN podría ser un distrito que abarca un gran espacio territorial y PARK todo lo contrario, pero al observar nuestra siguiente gráfica en la cual se muestran los crímenes (en distintos colores dependiendo de su distrito), que nuestros supuestos en realidad son totalmente lo contrario, y ahora, podemos pensar que el área que abarca cada distrito no es proporcional al número de casos de cada uno de ellos. "
   ]
  },
  {
   "cell_type": "code",
   "execution_count": 104,
   "metadata": {},
   "outputs": [
    {
     "data": {
      "text/plain": [
       "<matplotlib.axes._subplots.AxesSubplot at 0x15c84f779d0>"
      ]
     },
     "execution_count": 104,
     "metadata": {},
     "output_type": "execute_result"
    },
    {
     "data": {
      "image/png": "[encoded data removed]",
      "text/plain": [
       "<Figure size 432x288 with 2 Axes>"
      ]
     },
     "metadata": {
      "needs_background": "light"
     },
     "output_type": "display_data"
    }
   ],
   "source": [
    "nbSF.plot.hexbin(x='Latitud', y='Longitud', gridsize=15)"
   ]
  },
  {
   "cell_type": "markdown",
   "metadata": {},
   "source": [
    "Siguiendo con la misma lógica de la gráfica anterior procedimos a representar donde había más crímenes en toda la ciudad de San Francisco, pero ahora por coordenadas; en esta gráfica pudimos comprobar que el espacio que abarca SOUTHERN es el más riesgoso de toda la ciudad ya que ningún otro punto tuvo una concentración grande de crímenes."
   ]
  },
  {
   "cell_type": "code",
   "execution_count": 105,
   "metadata": {},
   "outputs": [
    {
     "data": {
      "text/plain": [
       "<matplotlib.axes._subplots.AxesSubplot at 0x15c851526a0>"
      ]
     },
     "execution_count": 105,
     "metadata": {},
     "output_type": "execute_result"
    },
    {
     "data": {
      "image/png": "[encoded data removed]",
      "text/plain": [
       "<Figure size 432x288 with 1 Axes>"
      ]
     },
     "metadata": {
      "needs_background": "light"
     },
     "output_type": "display_data"
    }
   ],
   "source": [
    "nbSF['Hora_del_Crimen'].value_counts().head(50).plot.bar()"
   ]
  },
  {
   "cell_type": "markdown",
   "metadata": {},
   "source": [
    "Para finalizar con el estudio de los datos decidimos realizar una gráfica de casos por hora, ya que si los casos como vimos anteriormente, se concentraron en alguna zona, tal vez se concentrarían en un horario en específico también, observando dicha gráfica pudimos apreciar una diferencia significativa en la frecuencia de los delitos los cuales toman lugar mayormente a las doce del medio día y las doce de la media noche."
   ]
  },
  {
   "cell_type": "code",
   "execution_count": 101,
   "metadata": {},
   "outputs": [
    {
     "data": {
      "text/plain": [
       "<matplotlib.axes._subplots.AxesSubplot at 0x15c821bc9d0>"
      ]
     },
     "execution_count": 101,
     "metadata": {},
     "output_type": "execute_result"
    },
    {
     "data": {
      "image/png": "[encoded data removed]",
      "text/plain": [
       "<Figure size 432x288 with 1 Axes>"
      ]
     },
     "metadata": {
      "needs_background": "light"
     },
     "output_type": "display_data"
    }
   ],
   "source": [
    "porres['Promedio_de_Crimenes_Resueltos'].plot.bar()"
   ]
  },
  {
   "cell_type": "markdown",
   "metadata": {},
   "source": [
    "0\tSOUTHERN /\n",
    "1\tBAYVIEW\t/\n",
    "2\tTENDERLOIN /\n",
    "3\tMISSION\t/\n",
    "4\tNORTHERN /\n",
    "5\tTARAVAL /\n",
    "6\tINGLESIDE /\n",
    "7\tCENTRAL /\n",
    "8\tRICHMOND /\n",
    "9\tPARK "
   ]
  },
  {
   "cell_type": "markdown",
   "metadata": {},
   "source": [
    "En nuestro objetivo secundario nos interesa la resolución de los casos por cada departamento de policia, por lo que decidimos verificarlo mediante un gráfico en donde nos percatamos que el porcentaje de crímenes que cuentan con una sentencia varía dependiendo el distrito en donde se encuentra el departamento, siendo TENDERLOIN el que tiene un mayor porcentaje de casos con resolución y RICHMOND el que tiene el menor porcentaje."
   ]
  },
  {
   "cell_type": "markdown",
   "metadata": {},
   "source": [
    "b) Revisen si en esta etapa pueden empezar a concluir cosas\n",
    "de sus objetivos y planteamiento del problema. (NOTA:\n",
    "Estas conclusiones pueden probar no ser ciertas al finalizar,\n",
    "lo que me interesa es ver mas o menos como van\n",
    "estructurando sus propias teorías)"
   ]
  },
  {
   "cell_type": "markdown",
   "metadata": {},
   "source": [
    "Respecto a lo visualizado anteriormente, podemos suponer que SOUTHERN será uno de nuestros puntos calientes y muy posiblemente el más intenso de todos, aún siendo uno de los distritos con menos extensión territorial; esto hay que tenerlo muy presente al momento de realizar la distribución de las unidades policiacas del distrito ya que, siendo este tan pequeño y distribuyendo a cada una de las unidades en horarios distintos, los crímenes se podrían ver reducidos en un gran porcentaje.\n",
    "Otro punto a considerar al momento de realizar los horarios en los cuales las unidades policiacas harán sus rondines es que la mayoría de los crímenes suceden a las doce del medio día y a las doce de la madrugada, por lo cual es indispensable tener cubierto la mayor parte del área de la ciudad de San Francisco en dichos horarios, esto para atacar nuestra problemática principal."
   ]
  },
  {
   "cell_type": "markdown",
   "metadata": {},
   "source": [
    "d) Realizar una conclusión global al finalizar el avance. Revisar\n",
    "si ya pueden responder alguno de sus objetivos y comentar\n",
    "si cambiaron sus estrategias para darle uso a su base de\n",
    "datos."
   ]
  },
  {
   "cell_type": "markdown",
   "metadata": {},
   "source": [
    "##### Conclusión Global"
   ]
  },
  {
   "attachments": {},
   "cell_type": "markdown",
   "metadata": {},
   "source": [
    "Para finalizar podemos concluir que el adecuar la base de datos a nuestras necesidades no fue una tarea difícil, y esto nos ayudó a simplificar el desarrollo de nuestra problemática; ya lista la información de los crímenes en San Francisco en el año del 2016 decidimos realizar estadísticos con los datos más relevantes para identificar la gravedad de nuestra problemática. Ya obtenidos dichos indicadores, nos percatamos de que, ya que la media anual por distrito es de 15,049.9 , cuatro de los diez distritos presentan un número de incidentes por encima de la misma, por lo cual se podría pensar que los puntos calientes estarían cerca de esas áreas; pudimos comprobar a través de una gráfica de densidad que SOUTHERN uno de los distritos con casos por encima de la media, es un punto caliente en la ciudad. Esto nos presenta focos rojos para este lugar, ya que también pudimos observar en una gráfica que el área que abarca dicho distrito no es extensa, sin embargo, es el lugar con más casos en las zonas de San Francisco, por lo que podríamos redistribuir las unidades policiacas que laboran en esa área para una óptima distribución en tiempo y espacio; hablamos también de tiempo ya que gracias a una de las gráficas realizadas nos percatamos de que el horario en el que más crímenes ocurren en la ciudad de San Francisco son las doce del medio día y las doce de la madrugada.\n",
    "\n",
    "Por último, para nuestro objetivo secundario, gracias a la última gráfica y las estadísticas obtenidas podemos observar que respecto a la media de crímenes resueltos que fue de 0.273, RICHMOND resuelve solo un 0.166891, siendo un distrito en el cual habría que hacer un enfoque a la manera de como se están llevando a cabo los casos. Con esta información podemos comenzar a responder a nuestro objetivo principal y secundario, sobre el cual ya nos percatamos en que distrito necesita el gobierno poner más vigilancia y en que horario, y además concentrarse o investigar el distrito en el que menos se resuelven casos."
   ]
  }
 ],
 "metadata": {
  "kernelspec": {
   "display_name": "Python 3",
   "language": "python",
   "name": "python3"
  },
  "language_info": {
   "codemirror_mode": {
    "name": "ipython",
    "version": 3
   },
   "file_extension": ".py",
   "mimetype": "text/x-python",
   "name": "python",
   "nbconvert_exporter": "python",
   "pygments_lexer": "ipython3",
   "version": "3.8.3"
  }
 },
 "nbformat": 4,
 "nbformat_minor": 4
}
